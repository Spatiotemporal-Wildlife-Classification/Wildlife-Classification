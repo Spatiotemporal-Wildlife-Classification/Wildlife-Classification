{
  "nbformat": 4,
  "nbformat_minor": 0,
  "metadata": {
    "colab": {
      "provenance": []
    },
    "kernelspec": {
      "name": "python3",
      "display_name": "Python 3"
    },
    "language_info": {
      "name": "python"
    },
    "accelerator": "GPU",
    "gpuClass": "standard"
  },
  "cells": [
    {
      "cell_type": "code",
      "source": [
        "!pip install pyyaml h5py\n",
        "!pip install tensorflow==2.9.1"
      ],
      "metadata": {
        "colab": {
          "base_uri": "https://localhost:8080/"
        },
        "id": "1BIwNuR-rWO4",
        "outputId": "5d41e2cc-5273-436b-c86f-c3455fcd7339"
      },
      "execution_count": 3,
      "outputs": [
        {
          "output_type": "stream",
          "name": "stdout",
          "text": [
            "Looking in indexes: https://pypi.org/simple, https://us-python.pkg.dev/colab-wheels/public/simple/\n",
            "Requirement already satisfied: pyyaml in /usr/local/lib/python3.9/dist-packages (6.0)\n",
            "Requirement already satisfied: h5py in /usr/local/lib/python3.9/dist-packages (3.8.0)\n",
            "Requirement already satisfied: numpy>=1.14.5 in /usr/local/lib/python3.9/dist-packages (from h5py) (1.22.4)\n",
            "Looking in indexes: https://pypi.org/simple, https://us-python.pkg.dev/colab-wheels/public/simple/\n",
            "Collecting tensorflow==2.9.1\n",
            "  Downloading tensorflow-2.9.1-cp39-cp39-manylinux_2_17_x86_64.manylinux2014_x86_64.whl (511.7 MB)\n",
            "\u001b[2K     \u001b[90m━━━━━━━━━━━━━━━━━━━━━━━━━━━━━━━━━━━━━━━\u001b[0m \u001b[32m511.7/511.7 MB\u001b[0m \u001b[31m3.3 MB/s\u001b[0m eta \u001b[36m0:00:00\u001b[0m\n",
            "\u001b[?25hCollecting protobuf<3.20,>=3.9.2\n",
            "  Downloading protobuf-3.19.6-cp39-cp39-manylinux_2_17_x86_64.manylinux2014_x86_64.whl (1.1 MB)\n",
            "\u001b[2K     \u001b[90m━━━━━━━━━━━━━━━━━━━━━━━━━━━━━━━━━━━━━━━━\u001b[0m \u001b[32m1.1/1.1 MB\u001b[0m \u001b[31m65.7 MB/s\u001b[0m eta \u001b[36m0:00:00\u001b[0m\n",
            "\u001b[?25hCollecting keras<2.10.0,>=2.9.0rc0\n",
            "  Downloading keras-2.9.0-py2.py3-none-any.whl (1.6 MB)\n",
            "\u001b[2K     \u001b[90m━━━━━━━━━━━━━━━━━━━━━━━━━━━━━━━━━━━━━━━━\u001b[0m \u001b[32m1.6/1.6 MB\u001b[0m \u001b[31m78.3 MB/s\u001b[0m eta \u001b[36m0:00:00\u001b[0m\n",
            "\u001b[?25hRequirement already satisfied: gast<=0.4.0,>=0.2.1 in /usr/local/lib/python3.9/dist-packages (from tensorflow==2.9.1) (0.4.0)\n",
            "Collecting tensorflow-estimator<2.10.0,>=2.9.0rc0\n",
            "  Downloading tensorflow_estimator-2.9.0-py2.py3-none-any.whl (438 kB)\n",
            "\u001b[2K     \u001b[90m━━━━━━━━━━━━━━━━━━━━━━━━━━━━━━━━━━━━━━\u001b[0m \u001b[32m438.7/438.7 kB\u001b[0m \u001b[31m29.8 MB/s\u001b[0m eta \u001b[36m0:00:00\u001b[0m\n",
            "\u001b[?25hRequirement already satisfied: astunparse>=1.6.0 in /usr/local/lib/python3.9/dist-packages (from tensorflow==2.9.1) (1.6.3)\n",
            "Requirement already satisfied: tensorflow-io-gcs-filesystem>=0.23.1 in /usr/local/lib/python3.9/dist-packages (from tensorflow==2.9.1) (0.32.0)\n",
            "Requirement already satisfied: typing-extensions>=3.6.6 in /usr/local/lib/python3.9/dist-packages (from tensorflow==2.9.1) (4.5.0)\n",
            "Collecting keras-preprocessing>=1.1.1\n",
            "  Downloading Keras_Preprocessing-1.1.2-py2.py3-none-any.whl (42 kB)\n",
            "\u001b[2K     \u001b[90m━━━━━━━━━━━━━━━━━━━━━━━━━━━━━━━━━━━━━━━━\u001b[0m \u001b[32m42.6/42.6 kB\u001b[0m \u001b[31m5.1 MB/s\u001b[0m eta \u001b[36m0:00:00\u001b[0m\n",
            "\u001b[?25hRequirement already satisfied: termcolor>=1.1.0 in /usr/local/lib/python3.9/dist-packages (from tensorflow==2.9.1) (2.3.0)\n",
            "Requirement already satisfied: setuptools in /usr/local/lib/python3.9/dist-packages (from tensorflow==2.9.1) (67.7.2)\n",
            "Requirement already satisfied: wrapt>=1.11.0 in /usr/local/lib/python3.9/dist-packages (from tensorflow==2.9.1) (1.14.1)\n",
            "Collecting flatbuffers<2,>=1.12\n",
            "  Downloading flatbuffers-1.12-py2.py3-none-any.whl (15 kB)\n",
            "Requirement already satisfied: numpy>=1.20 in /usr/local/lib/python3.9/dist-packages (from tensorflow==2.9.1) (1.22.4)\n",
            "Requirement already satisfied: libclang>=13.0.0 in /usr/local/lib/python3.9/dist-packages (from tensorflow==2.9.1) (16.0.0)\n",
            "Requirement already satisfied: h5py>=2.9.0 in /usr/local/lib/python3.9/dist-packages (from tensorflow==2.9.1) (3.8.0)\n",
            "Requirement already satisfied: google-pasta>=0.1.1 in /usr/local/lib/python3.9/dist-packages (from tensorflow==2.9.1) (0.2.0)\n",
            "Requirement already satisfied: grpcio<2.0,>=1.24.3 in /usr/local/lib/python3.9/dist-packages (from tensorflow==2.9.1) (1.54.0)\n",
            "Requirement already satisfied: six>=1.12.0 in /usr/local/lib/python3.9/dist-packages (from tensorflow==2.9.1) (1.16.0)\n",
            "Requirement already satisfied: packaging in /usr/local/lib/python3.9/dist-packages (from tensorflow==2.9.1) (23.1)\n",
            "Requirement already satisfied: opt-einsum>=2.3.2 in /usr/local/lib/python3.9/dist-packages (from tensorflow==2.9.1) (3.3.0)\n",
            "Collecting tensorboard<2.10,>=2.9\n",
            "  Downloading tensorboard-2.9.1-py3-none-any.whl (5.8 MB)\n",
            "\u001b[2K     \u001b[90m━━━━━━━━━━━━━━━━━━━━━━━━━━━━━━━━━━━━━━━━\u001b[0m \u001b[32m5.8/5.8 MB\u001b[0m \u001b[31m96.0 MB/s\u001b[0m eta \u001b[36m0:00:00\u001b[0m\n",
            "\u001b[?25hRequirement already satisfied: absl-py>=1.0.0 in /usr/local/lib/python3.9/dist-packages (from tensorflow==2.9.1) (1.4.0)\n",
            "Requirement already satisfied: wheel<1.0,>=0.23.0 in /usr/local/lib/python3.9/dist-packages (from astunparse>=1.6.0->tensorflow==2.9.1) (0.40.0)\n",
            "Requirement already satisfied: markdown>=2.6.8 in /usr/local/lib/python3.9/dist-packages (from tensorboard<2.10,>=2.9->tensorflow==2.9.1) (3.4.3)\n",
            "Requirement already satisfied: requests<3,>=2.21.0 in /usr/local/lib/python3.9/dist-packages (from tensorboard<2.10,>=2.9->tensorflow==2.9.1) (2.27.1)\n",
            "Requirement already satisfied: google-auth<3,>=1.6.3 in /usr/local/lib/python3.9/dist-packages (from tensorboard<2.10,>=2.9->tensorflow==2.9.1) (2.17.3)\n",
            "Requirement already satisfied: tensorboard-plugin-wit>=1.6.0 in /usr/local/lib/python3.9/dist-packages (from tensorboard<2.10,>=2.9->tensorflow==2.9.1) (1.8.1)\n",
            "Collecting tensorboard-data-server<0.7.0,>=0.6.0\n",
            "  Downloading tensorboard_data_server-0.6.1-py3-none-manylinux2010_x86_64.whl (4.9 MB)\n",
            "\u001b[2K     \u001b[90m━━━━━━━━━━━━━━━━━━━━━━━━━━━━━━━━━━━━━━━━\u001b[0m \u001b[32m4.9/4.9 MB\u001b[0m \u001b[31m96.5 MB/s\u001b[0m eta \u001b[36m0:00:00\u001b[0m\n",
            "\u001b[?25hCollecting google-auth-oauthlib<0.5,>=0.4.1\n",
            "  Downloading google_auth_oauthlib-0.4.6-py2.py3-none-any.whl (18 kB)\n",
            "Requirement already satisfied: werkzeug>=1.0.1 in /usr/local/lib/python3.9/dist-packages (from tensorboard<2.10,>=2.9->tensorflow==2.9.1) (2.2.3)\n",
            "Requirement already satisfied: cachetools<6.0,>=2.0.0 in /usr/local/lib/python3.9/dist-packages (from google-auth<3,>=1.6.3->tensorboard<2.10,>=2.9->tensorflow==2.9.1) (5.3.0)\n",
            "Requirement already satisfied: rsa<5,>=3.1.4 in /usr/local/lib/python3.9/dist-packages (from google-auth<3,>=1.6.3->tensorboard<2.10,>=2.9->tensorflow==2.9.1) (4.9)\n",
            "Requirement already satisfied: pyasn1-modules>=0.2.1 in /usr/local/lib/python3.9/dist-packages (from google-auth<3,>=1.6.3->tensorboard<2.10,>=2.9->tensorflow==2.9.1) (0.3.0)\n",
            "Requirement already satisfied: requests-oauthlib>=0.7.0 in /usr/local/lib/python3.9/dist-packages (from google-auth-oauthlib<0.5,>=0.4.1->tensorboard<2.10,>=2.9->tensorflow==2.9.1) (1.3.1)\n",
            "Requirement already satisfied: importlib-metadata>=4.4 in /usr/local/lib/python3.9/dist-packages (from markdown>=2.6.8->tensorboard<2.10,>=2.9->tensorflow==2.9.1) (6.6.0)\n",
            "Requirement already satisfied: charset-normalizer~=2.0.0 in /usr/local/lib/python3.9/dist-packages (from requests<3,>=2.21.0->tensorboard<2.10,>=2.9->tensorflow==2.9.1) (2.0.12)\n",
            "Requirement already satisfied: certifi>=2017.4.17 in /usr/local/lib/python3.9/dist-packages (from requests<3,>=2.21.0->tensorboard<2.10,>=2.9->tensorflow==2.9.1) (2022.12.7)\n",
            "Requirement already satisfied: idna<4,>=2.5 in /usr/local/lib/python3.9/dist-packages (from requests<3,>=2.21.0->tensorboard<2.10,>=2.9->tensorflow==2.9.1) (3.4)\n",
            "Requirement already satisfied: urllib3<1.27,>=1.21.1 in /usr/local/lib/python3.9/dist-packages (from requests<3,>=2.21.0->tensorboard<2.10,>=2.9->tensorflow==2.9.1) (1.26.15)\n",
            "Requirement already satisfied: MarkupSafe>=2.1.1 in /usr/local/lib/python3.9/dist-packages (from werkzeug>=1.0.1->tensorboard<2.10,>=2.9->tensorflow==2.9.1) (2.1.2)\n",
            "Requirement already satisfied: zipp>=0.5 in /usr/local/lib/python3.9/dist-packages (from importlib-metadata>=4.4->markdown>=2.6.8->tensorboard<2.10,>=2.9->tensorflow==2.9.1) (3.15.0)\n",
            "Requirement already satisfied: pyasn1<0.6.0,>=0.4.6 in /usr/local/lib/python3.9/dist-packages (from pyasn1-modules>=0.2.1->google-auth<3,>=1.6.3->tensorboard<2.10,>=2.9->tensorflow==2.9.1) (0.5.0)\n",
            "Requirement already satisfied: oauthlib>=3.0.0 in /usr/local/lib/python3.9/dist-packages (from requests-oauthlib>=0.7.0->google-auth-oauthlib<0.5,>=0.4.1->tensorboard<2.10,>=2.9->tensorflow==2.9.1) (3.2.2)\n",
            "Installing collected packages: keras, flatbuffers, tensorflow-estimator, tensorboard-data-server, protobuf, keras-preprocessing, google-auth-oauthlib, tensorboard, tensorflow\n",
            "  Attempting uninstall: keras\n",
            "    Found existing installation: keras 2.12.0\n",
            "    Uninstalling keras-2.12.0:\n",
            "      Successfully uninstalled keras-2.12.0\n",
            "  Attempting uninstall: flatbuffers\n",
            "    Found existing installation: flatbuffers 23.3.3\n",
            "    Uninstalling flatbuffers-23.3.3:\n",
            "      Successfully uninstalled flatbuffers-23.3.3\n",
            "  Attempting uninstall: tensorflow-estimator\n",
            "    Found existing installation: tensorflow-estimator 2.12.0\n",
            "    Uninstalling tensorflow-estimator-2.12.0:\n",
            "      Successfully uninstalled tensorflow-estimator-2.12.0\n",
            "  Attempting uninstall: tensorboard-data-server\n",
            "    Found existing installation: tensorboard-data-server 0.7.0\n",
            "    Uninstalling tensorboard-data-server-0.7.0:\n",
            "      Successfully uninstalled tensorboard-data-server-0.7.0\n",
            "  Attempting uninstall: protobuf\n",
            "    Found existing installation: protobuf 3.20.3\n",
            "    Uninstalling protobuf-3.20.3:\n",
            "      Successfully uninstalled protobuf-3.20.3\n",
            "  Attempting uninstall: google-auth-oauthlib\n",
            "    Found existing installation: google-auth-oauthlib 1.0.0\n",
            "    Uninstalling google-auth-oauthlib-1.0.0:\n",
            "      Successfully uninstalled google-auth-oauthlib-1.0.0\n",
            "  Attempting uninstall: tensorboard\n",
            "    Found existing installation: tensorboard 2.12.2\n",
            "    Uninstalling tensorboard-2.12.2:\n",
            "      Successfully uninstalled tensorboard-2.12.2\n",
            "  Attempting uninstall: tensorflow\n",
            "    Found existing installation: tensorflow 2.12.0\n",
            "    Uninstalling tensorflow-2.12.0:\n",
            "      Successfully uninstalled tensorflow-2.12.0\n",
            "\u001b[31mERROR: pip's dependency resolver does not currently take into account all the packages that are installed. This behaviour is the source of the following dependency conflicts.\n",
            "tensorflow-metadata 1.13.1 requires protobuf<5,>=3.20.3, but you have protobuf 3.19.6 which is incompatible.\u001b[0m\u001b[31m\n",
            "\u001b[0mSuccessfully installed flatbuffers-1.12 google-auth-oauthlib-0.4.6 keras-2.9.0 keras-preprocessing-1.1.2 protobuf-3.19.6 tensorboard-2.9.1 tensorboard-data-server-0.6.1 tensorflow-2.9.1 tensorflow-estimator-2.9.0\n"
          ]
        }
      ]
    },
    {
      "cell_type": "code",
      "execution_count": 27,
      "metadata": {
        "id": "eC2qOylsIez0"
      },
      "outputs": [],
      "source": [
        "from tensorflow.keras.applications.efficientnet import EfficientNetB6\n",
        "from tensorflow.keras.applications.efficientnet import preprocess_input, decode_predictions\n",
        "from tensorflow.keras.preprocessing import image\n",
        "from tensorflow.keras.models import Sequential\n",
        "from tensorflow.keras import layers\n",
        "from tensorflow.keras.models import Model\n",
        "from tensorflow.keras.layers import Dense, GlobalAveragePooling2D\n",
        "from tensorflow.keras.optimizers import Adam\n",
        "from tensorflow.keras.utils import image_dataset_from_directory\n",
        "from tensorflow.data import AUTOTUNE\n",
        "import tensorflow as tf\n",
        "from tensorflow import keras\n",
        "import sys\n",
        "import pathlib\n",
        "import matplotlib.pyplot as plt\n",
        "import pandas as pd\n",
        "import numpy as np"
      ]
    },
    {
      "cell_type": "code",
      "source": [
        "from google.colab import drive\n",
        "drive.mount('/content/gdrive')"
      ],
      "metadata": {
        "colab": {
          "base_uri": "https://localhost:8080/"
        },
        "id": "vXKOUygKMSyT",
        "outputId": "d2628fe6-1fe2-431a-c4d2-de42fe7b5943"
      },
      "execution_count": 5,
      "outputs": [
        {
          "output_type": "stream",
          "name": "stdout",
          "text": [
            "Mounted at /content/gdrive\n"
          ]
        }
      ]
    },
    {
      "cell_type": "code",
      "source": [
        "data = pathlib.Path('/content/gdrive/MyDrive/wildlife_presence')\n",
        "test = pathlib.Path('/content/gdrive/MyDrive/test')\n",
        "top_checkpoint_path = pathlib.Path('/content/gdrive/MyDrive/top_layer_training/cp.ckpt')\n",
        "std_checkpoint_path = pathlib.Path('/content/gdrive/MyDrive?std_training/cp.ckpt')"
      ],
      "metadata": {
        "id": "JMgQCL5jN2Zm"
      },
      "execution_count": 6,
      "outputs": []
    },
    {
      "cell_type": "code",
      "source": [
        "try:\n",
        "    tpu = tf.distribute.cluster_resolver.TPUClusterResolver.connect()\n",
        "    print(\"Device:\", tpu.master())\n",
        "    strategy = tf.distribute.TPUStrategy(tpu)\n",
        "except ValueError:\n",
        "    print(\"Not connected to a TPU runtime. Using CPU/GPU strategy\")\n",
        "    strategy = tf.distribute.MirroredStrategy()"
      ],
      "metadata": {
        "colab": {
          "base_uri": "https://localhost:8080/"
        },
        "id": "efqSihzjJqNu",
        "outputId": "02a6159d-5ad9-49ae-f82c-229a052b2cf9"
      },
      "execution_count": 7,
      "outputs": [
        {
          "output_type": "stream",
          "name": "stdout",
          "text": [
            "Not connected to a TPU runtime. Using CPU/GPU strategy\n"
          ]
        }
      ]
    },
    {
      "cell_type": "markdown",
      "source": [
        "# New Section"
      ],
      "metadata": {
        "id": "TqOEn6uIL3Ud"
      }
    },
    {
      "cell_type": "code",
      "source": [
        "img_path = data\n",
        "test_path = test\n",
        "img_size = 528\n",
        "batch_size=32\n",
        "classes = 2"
      ],
      "metadata": {
        "id": "ApBEwe0kJD0n"
      },
      "execution_count": 8,
      "outputs": []
    },
    {
      "cell_type": "code",
      "source": [
        "# Modified Network allowing for transfer learning\n",
        "def build_efficientnet():\n",
        "    inputs = layers.Input(shape=(img_size, img_size, 3))  # Construct the expected image input\n",
        "    model = EfficientNetB6(include_top=False,\n",
        "                           input_tensor=inputs,\n",
        "                           weights='imagenet')  # Initialize efficientnet model with imagenet weights\n",
        "    model.trainable = False  # Freeze the pre-trained weights\n",
        "\n",
        "    # Rebuild the top layers\n",
        "    x = Sequential()\n",
        "    x = model.output\n",
        "    x = GlobalAveragePooling2D()(x)\n",
        "    x = Dense(2048, activation='relu')(x)\n",
        "    predictions = Dense(classes, activation='softmax')(x)\n",
        "\n",
        "    # Initialize model\n",
        "    model = Model(inputs=model.input, outputs=predictions, name='EfficientNet')\n",
        "    optimizer = Adam(learning_rate=1e-2)\n",
        "    model.compile(optimizer=optimizer,\n",
        "                  loss='binary_crossentropy',\n",
        "                  metrics=['accuracy'])\n",
        "\n",
        "    return model\n"
      ],
      "metadata": {
        "id": "Rs9jPXkpItfM"
      },
      "execution_count": 9,
      "outputs": []
    },
    {
      "cell_type": "code",
      "source": [
        "def import_dataset(file_path: str):\n",
        "\n",
        "    train_ds = image_dataset_from_directory(directory=file_path,\n",
        "                                            validation_split=0.2,\n",
        "                                            subset='training',\n",
        "                                            seed=123,\n",
        "                                            image_size=(img_size, img_size),\n",
        "                                            batch_size=batch_size,\n",
        "                                            labels='inferred',\n",
        "                                            label_mode='categorical')\n",
        "    val_ds = image_dataset_from_directory(directory=file_path,\n",
        "                                          validation_split=0.2,\n",
        "                                          subset='validation',\n",
        "                                          seed=123,\n",
        "                                          image_size=(img_size, img_size),\n",
        "                                          batch_size=batch_size,\n",
        "                                          labels='inferred',\n",
        "                                          label_mode='categorical')\n",
        "\n",
        "    print(train_ds.class_names)\n",
        "    return train_ds, val_ds"
      ],
      "metadata": {
        "id": "L-oQpR31JBfM"
      },
      "execution_count": 19,
      "outputs": []
    },
    {
      "cell_type": "code",
      "source": [
        "def generate_test_set(file_path: str):\n",
        "  test_ds = image_dataset_from_directory(directory=file_path,\n",
        "                                         seed=123,\n",
        "                                         image_size=(img_size, img_size),\n",
        "                                         labels='inferred',\n",
        "                                         label_mode='categorical')\n",
        "  print(test_ds.class_names)\n",
        "  return test_ds"
      ],
      "metadata": {
        "id": "pTICUSLN-0bm"
      },
      "execution_count": 13,
      "outputs": []
    },
    {
      "cell_type": "code",
      "source": [
        "def train_top_weights(train_ds, test_ds):\n",
        "  with strategy.scope():\n",
        "    model = build_efficientnet()\n",
        "\n",
        "\n",
        "  epochs = 25\n",
        "  hist = model.fit(train_ds, \n",
        "                   epochs=epochs, \n",
        "                   validation_data=test_ds, \n",
        "                   verbose=2)\n",
        "  return model, hist"
      ],
      "metadata": {
        "id": "EWEsMzwYJY4P"
      },
      "execution_count": 14,
      "outputs": []
    },
    {
      "cell_type": "code",
      "source": [
        "def plot_hist(hist):\n",
        "    plt.plot(hist.history[\"accuracy\"])\n",
        "    plt.plot(hist.history['val_accuracy'])\n",
        "    plt.title(\"Wildlife Presence Accuracy\")\n",
        "    plt.ylabel(\"Accuracy (%)\")\n",
        "    plt.xlabel(\"Epoch\")\n",
        "    plt.legend([\"Train\", \"Validation\"])\n",
        "    plt.show"
      ],
      "metadata": {
        "id": "ghXTI74IJcFf"
      },
      "execution_count": 15,
      "outputs": []
    },
    {
      "cell_type": "code",
      "source": [
        "def reload_model_top():\n",
        "  model = build_efficientnet()\n",
        "  latest_weights = tf.train.latest_checkpoint(top_checkpoint_path)\n",
        "  model.load_weights(latest_weights)\n",
        "  return model"
      ],
      "metadata": {
        "id": "Bmt_n-sAtFH4"
      },
      "execution_count": 16,
      "outputs": []
    },
    {
      "cell_type": "code",
      "source": [
        "# Generate dataset and pre-tune\n",
        "train_ds, eval_ds = import_dataset(img_path)\n",
        "test_ds = generate_test_set(test)\n",
        "\n",
        "train_ds = train_ds.prefetch(AUTOTUNE) \n",
        "\n",
        "model, hist = train_top_weights(train_ds, eval_ds)"
      ],
      "metadata": {
        "colab": {
          "base_uri": "https://localhost:8080/"
        },
        "id": "dCEhwqoNJd4J",
        "outputId": "52dfdeb0-703a-405e-e2af-dba89d0dfb0a"
      },
      "execution_count": 20,
      "outputs": [
        {
          "output_type": "stream",
          "name": "stdout",
          "text": [
            "Found 695 files belonging to 2 classes.\n",
            "Using 556 files for training.\n",
            "Found 695 files belonging to 2 classes.\n",
            "Using 139 files for validation.\n",
            "['Absent', 'Present']\n",
            "Found 54 files belonging to 2 classes.\n",
            "['Absent', 'Present']\n",
            "Downloading data from https://storage.googleapis.com/keras-applications/efficientnetb6_notop.h5\n",
            "165234480/165234480 [==============================] - 1s 0us/step\n",
            "Epoch 1/25\n",
            "18/18 - 107s - loss: 1.0926 - accuracy: 0.9047 - val_loss: 0.6077 - val_accuracy: 0.9424 - 107s/epoch - 6s/step\n",
            "Epoch 2/25\n",
            "18/18 - 33s - loss: 0.1943 - accuracy: 0.9820 - val_loss: 0.2694 - val_accuracy: 0.9353 - 33s/epoch - 2s/step\n",
            "Epoch 3/25\n",
            "18/18 - 33s - loss: 0.0268 - accuracy: 0.9820 - val_loss: 0.2604 - val_accuracy: 0.9353 - 33s/epoch - 2s/step\n",
            "Epoch 4/25\n",
            "18/18 - 33s - loss: 0.0242 - accuracy: 0.9892 - val_loss: 0.2524 - val_accuracy: 0.9281 - 33s/epoch - 2s/step\n",
            "Epoch 5/25\n",
            "18/18 - 34s - loss: 0.0255 - accuracy: 0.9928 - val_loss: 0.2221 - val_accuracy: 0.8921 - 34s/epoch - 2s/step\n",
            "Epoch 6/25\n",
            "18/18 - 36s - loss: 0.0085 - accuracy: 1.0000 - val_loss: 0.2484 - val_accuracy: 0.9353 - 36s/epoch - 2s/step\n",
            "Epoch 7/25\n",
            "18/18 - 34s - loss: 0.0115 - accuracy: 0.9964 - val_loss: 0.2441 - val_accuracy: 0.9281 - 34s/epoch - 2s/step\n",
            "Epoch 8/25\n",
            "18/18 - 34s - loss: 0.0106 - accuracy: 0.9964 - val_loss: 0.3278 - val_accuracy: 0.9137 - 34s/epoch - 2s/step\n",
            "Epoch 9/25\n",
            "18/18 - 34s - loss: 0.0261 - accuracy: 0.9964 - val_loss: 0.3010 - val_accuracy: 0.9209 - 34s/epoch - 2s/step\n",
            "Epoch 10/25\n",
            "18/18 - 34s - loss: 0.0078 - accuracy: 1.0000 - val_loss: 0.6027 - val_accuracy: 0.9353 - 34s/epoch - 2s/step\n",
            "Epoch 11/25\n",
            "18/18 - 34s - loss: 0.1177 - accuracy: 0.9874 - val_loss: 1.0518 - val_accuracy: 0.9209 - 34s/epoch - 2s/step\n",
            "Epoch 12/25\n",
            "18/18 - 34s - loss: 0.0952 - accuracy: 0.9928 - val_loss: 1.7520 - val_accuracy: 0.9065 - 34s/epoch - 2s/step\n",
            "Epoch 13/25\n",
            "18/18 - 33s - loss: 0.0824 - accuracy: 0.9928 - val_loss: 2.1828 - val_accuracy: 0.9137 - 33s/epoch - 2s/step\n",
            "Epoch 14/25\n",
            "18/18 - 33s - loss: 0.1768 - accuracy: 0.9856 - val_loss: 1.4410 - val_accuracy: 0.9353 - 33s/epoch - 2s/step\n",
            "Epoch 15/25\n",
            "18/18 - 34s - loss: 0.0407 - accuracy: 0.9964 - val_loss: 1.1622 - val_accuracy: 0.9281 - 34s/epoch - 2s/step\n",
            "Epoch 16/25\n",
            "18/18 - 34s - loss: 0.0959 - accuracy: 0.9946 - val_loss: 1.0051 - val_accuracy: 0.9209 - 34s/epoch - 2s/step\n",
            "Epoch 17/25\n",
            "18/18 - 35s - loss: 0.0484 - accuracy: 0.9928 - val_loss: 0.8355 - val_accuracy: 0.9137 - 35s/epoch - 2s/step\n",
            "Epoch 18/25\n",
            "18/18 - 34s - loss: 0.0875 - accuracy: 0.9910 - val_loss: 0.9670 - val_accuracy: 0.9209 - 34s/epoch - 2s/step\n",
            "Epoch 19/25\n",
            "18/18 - 34s - loss: 0.0179 - accuracy: 1.0000 - val_loss: 1.2923 - val_accuracy: 0.9209 - 34s/epoch - 2s/step\n",
            "Epoch 20/25\n",
            "18/18 - 35s - loss: 0.0458 - accuracy: 0.9964 - val_loss: 1.2378 - val_accuracy: 0.9353 - 35s/epoch - 2s/step\n",
            "Epoch 21/25\n",
            "18/18 - 36s - loss: 4.0672e-05 - accuracy: 1.0000 - val_loss: 1.0616 - val_accuracy: 0.9424 - 36s/epoch - 2s/step\n",
            "Epoch 22/25\n",
            "18/18 - 34s - loss: 0.0383 - accuracy: 0.9982 - val_loss: 1.5108 - val_accuracy: 0.9496 - 34s/epoch - 2s/step\n",
            "Epoch 23/25\n",
            "18/18 - 34s - loss: 0.0057 - accuracy: 0.9982 - val_loss: 1.2701 - val_accuracy: 0.9353 - 34s/epoch - 2s/step\n",
            "Epoch 24/25\n",
            "18/18 - 34s - loss: 0.0119 - accuracy: 0.9982 - val_loss: 1.6089 - val_accuracy: 0.9424 - 34s/epoch - 2s/step\n",
            "Epoch 25/25\n",
            "18/18 - 36s - loss: 0.0456 - accuracy: 0.9964 - val_loss: 1.3865 - val_accuracy: 0.9353 - 36s/epoch - 2s/step\n"
          ]
        }
      ]
    },
    {
      "cell_type": "code",
      "source": [
        "plot_hist(hist)"
      ],
      "metadata": {
        "colab": {
          "base_uri": "https://localhost:8080/",
          "height": 472
        },
        "id": "tT9XoRFMTC3g",
        "outputId": "53c12885-d6fc-48c1-d184-f1357a3e1929"
      },
      "execution_count": 13,
      "outputs": [
        {
          "output_type": "display_data",
          "data": {
            "text/plain": [
              "<Figure size 640x480 with 1 Axes>"
            ],
            "image/png": "[encoded data removed]"
          },
          "metadata": {}
        }
      ]
    },
    {
      "cell_type": "code",
      "source": [
        "preds = model.predict(test_ds)"
      ],
      "metadata": {
        "colab": {
          "base_uri": "https://localhost:8080/"
        },
        "id": "9YfMICt-CCcY",
        "outputId": "7a9f5652-705b-4070-85d4-6d912ce92f07"
      },
      "execution_count": 21,
      "outputs": [
        {
          "output_type": "stream",
          "name": "stdout",
          "text": [
            "2/2 [==============================] - 21s 4s/step\n"
          ]
        }
      ]
    },
    {
      "cell_type": "code",
      "source": [
        "y_pred = np.argmax(preds, axis=1)\n",
        "print(y_pred)"
      ],
      "metadata": {
        "colab": {
          "base_uri": "https://localhost:8080/"
        },
        "id": "EW_v3NRoCHZj",
        "outputId": "a97192c3-ab77-4364-c368-b3ef36d8a18c"
      },
      "execution_count": 29,
      "outputs": [
        {
          "output_type": "stream",
          "name": "stdout",
          "text": [
            "[1 1 1 1 1 1 1 1 1 1 1 0 1 0 0 0 1 1 1 1 1 0 0 1 0 1 1 1 1 1 1 1 1 1 0 1 1\n",
            " 1 1 0 1 1 1 0 0 1 1 1 1 1 0 1 1 1]\n"
          ]
        }
      ]
    }
  ]
}