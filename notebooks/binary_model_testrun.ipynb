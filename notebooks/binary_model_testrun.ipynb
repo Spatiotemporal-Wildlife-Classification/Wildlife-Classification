{
  "nbformat": 4,
  "nbformat_minor": 0,
  "metadata": {
    "colab": {
      "provenance": []
    },
    "kernelspec": {
      "name": "python3",
      "display_name": "Python 3"
    },
    "language_info": {
      "name": "python"
    },
    "accelerator": "GPU",
    "gpuClass": "standard"
  },
  "cells": [
    {
      "cell_type": "code",
      "execution_count": 14,
      "metadata": {
        "id": "eC2qOylsIez0"
      },
      "outputs": [],
      "source": [
        "from tensorflow.keras.applications.efficientnet import EfficientNetB6\n",
        "from tensorflow.keras.applications.efficientnet import preprocess_input, decode_predictions\n",
        "from tensorflow.keras.preprocessing import image\n",
        "from tensorflow.keras.models import Sequential\n",
        "from tensorflow.keras import layers\n",
        "from tensorflow.keras.models import Model\n",
        "from tensorflow.keras.layers import Dense, GlobalAveragePooling2D\n",
        "from tensorflow.keras.optimizers import Adam\n",
        "from tensorflow.keras.utils import image_dataset_from_directory\n",
        "from tensorflow.data import AUTOTUNE\n",
        "import tensorflow as tf\n",
        "import sys\n",
        "import pathlib\n",
        "import matplotlib.pyplot as plt"
      ]
    },
    {
      "cell_type": "code",
      "source": [
        "from google.colab import drive\n",
        "drive.mount('/content/gdrive')"
      ],
      "metadata": {
        "colab": {
          "base_uri": "https://localhost:8080/"
        },
        "id": "vXKOUygKMSyT",
        "outputId": "ed8dc155-7973-48cf-df52-7b239b2302a9"
      },
      "execution_count": 2,
      "outputs": [
        {
          "output_type": "stream",
          "name": "stdout",
          "text": [
            "Mounted at /content/gdrive\n"
          ]
        }
      ]
    },
    {
      "cell_type": "code",
      "source": [
        "data = pathlib.Path('/content/gdrive/MyDrive/wildlife_presence')"
      ],
      "metadata": {
        "id": "JMgQCL5jN2Zm"
      },
      "execution_count": 3,
      "outputs": []
    },
    {
      "cell_type": "code",
      "source": [
        "try:\n",
        "    tpu = tf.distribute.cluster_resolver.TPUClusterResolver.connect()\n",
        "    print(\"Device:\", tpu.master())\n",
        "    strategy = tf.distribute.TPUStrategy(tpu)\n",
        "except ValueError:\n",
        "    print(\"Not connected to a TPU runtime. Using CPU/GPU strategy\")\n",
        "    strategy = tf.distribute.MirroredStrategy()"
      ],
      "metadata": {
        "colab": {
          "base_uri": "https://localhost:8080/"
        },
        "id": "efqSihzjJqNu",
        "outputId": "2088e01b-d015-44c8-9f01-6c548aad2910"
      },
      "execution_count": 4,
      "outputs": [
        {
          "output_type": "stream",
          "name": "stdout",
          "text": [
            "Not connected to a TPU runtime. Using CPU/GPU strategy\n"
          ]
        }
      ]
    },
    {
      "cell_type": "markdown",
      "source": [
        "# New Section"
      ],
      "metadata": {
        "id": "TqOEn6uIL3Ud"
      }
    },
    {
      "cell_type": "code",
      "source": [
        "root_path = sys.path[1]"
      ],
      "metadata": {
        "id": "IN8E2ugSKjjB"
      },
      "execution_count": 5,
      "outputs": []
    },
    {
      "cell_type": "code",
      "source": [
        "img_path = data\n",
        "img_size = 528\n",
        "batch_size=32\n",
        "classes = 2"
      ],
      "metadata": {
        "id": "ApBEwe0kJD0n"
      },
      "execution_count": 6,
      "outputs": []
    },
    {
      "cell_type": "code",
      "source": [
        "# Modified Network allowing for transfer learning\n",
        "def build_efficientnet():\n",
        "    inputs = layers.Input(shape=(img_size, img_size, 3))  # Construct the expected image input\n",
        "    model = EfficientNetB6(include_top=False,\n",
        "                           input_tensor=inputs,\n",
        "                           weights='imagenet')  # Initialize efficientnet model with imagenet weights\n",
        "    model.trainable = False  # Freeze the pre-trained weights\n",
        "\n",
        "    # Rebuild the top layers\n",
        "    x = Sequential()\n",
        "    x = model.output\n",
        "    x = GlobalAveragePooling2D()(x)\n",
        "    x = Dense(2048, activation='relu')(x)\n",
        "    predictions = Dense(classes, activation='softmax')(x)\n",
        "\n",
        "    # Initialize model\n",
        "    model = Model(inputs=model.input, outputs=predictions, name='EfficientNet')\n",
        "    optimizer = Adam(learning_rate=1e-2)\n",
        "    model.compile(optimizer=optimizer,\n",
        "                  loss='binary_crossentropy',\n",
        "                  metrics=['accuracy'])\n",
        "\n",
        "    return model\n"
      ],
      "metadata": {
        "id": "Rs9jPXkpItfM"
      },
      "execution_count": 7,
      "outputs": []
    },
    {
      "cell_type": "code",
      "source": [
        "def import_dataset(file_path: str):\n",
        "\n",
        "    train_ds = image_dataset_from_directory(directory=file_path,\n",
        "                                            validation_split=0.2,\n",
        "                                            subset='training',\n",
        "                                            seed=123,\n",
        "                                            image_size=(img_size, img_size),\n",
        "                                            batch_size=batch_size,\n",
        "                                            labels='inferred',\n",
        "                                            label_mode='categorical')\n",
        "    val_ds = image_dataset_from_directory(directory=file_path,\n",
        "                                          validation_split=0.2,\n",
        "                                          subset='validation',\n",
        "                                          seed=123,\n",
        "                                          image_size=(img_size, img_size),\n",
        "                                          batch_size=batch_size,\n",
        "                                          labels='inferred',\n",
        "                                          label_mode='categorical')\n",
        "\n",
        "    print(train_ds.class_names)\n",
        "    return train_ds, val_ds"
      ],
      "metadata": {
        "id": "L-oQpR31JBfM"
      },
      "execution_count": 8,
      "outputs": []
    },
    {
      "cell_type": "code",
      "source": [
        "def train_top_weights(train_ds, test_ds):\n",
        "  with strategy.scope():\n",
        "    model = build_efficientnet()\n",
        "\n",
        "  epochs = 25\n",
        "  hist = model.fit(train_ds, epochs=epochs, validation_data = test_ds, verbose=2)\n",
        "  return model, hist"
      ],
      "metadata": {
        "id": "EWEsMzwYJY4P"
      },
      "execution_count": 9,
      "outputs": []
    },
    {
      "cell_type": "code",
      "source": [
        "def plot_hist(hist):\n",
        "    plt.plot(hist.history[\"accuracy\"])\n",
        "    plt.plot(hist.history['val_accuracy'])\n",
        "    plt.title(\"Wildlife Presence Accuracy\")\n",
        "    plt.ylabel(\"Accuracy (%)\")\n",
        "    plt.xlabel(\"Epoch\")\n",
        "    plt.legend([\"Train\", \"Validation\"])\n",
        "    plt.show"
      ],
      "metadata": {
        "id": "ghXTI74IJcFf"
      },
      "execution_count": 15,
      "outputs": []
    },
    {
      "cell_type": "code",
      "source": [
        "    # Generate dataset and pre-tune\n",
        "    train_ds, eval_ds = import_dataset(img_path)\n",
        "    train_ds = train_ds.prefetch(AUTOTUNE)\n",
        "\n",
        "    model, hist = train_top_weights(train_ds, eval_ds)"
      ],
      "metadata": {
        "colab": {
          "base_uri": "https://localhost:8080/",
          "height": 1000
        },
        "id": "dCEhwqoNJd4J",
        "outputId": "4784e8a4-d578-4818-84ab-d0e825eff2a4"
      },
      "execution_count": 11,
      "outputs": [
        {
          "output_type": "stream",
          "name": "stdout",
          "text": [
            "Found 84 files belonging to 2 classes.\n",
            "Using 68 files for training.\n",
            "Found 84 files belonging to 2 classes.\n",
            "Using 16 files for validation.\n",
            "['Absent', 'Present']\n",
            "Downloading data from https://storage.googleapis.com/keras-applications/efficientnetb6_notop.h5\n",
            "165234480/165234480 [==============================] - 1s 0us/step\n",
            "Epoch 1/25\n",
            "3/3 - 55s - loss: 1.2941 - accuracy: 0.7500 - val_loss: 0.6389 - val_accuracy: 0.9375 - 55s/epoch - 18s/step\n",
            "Epoch 2/25\n",
            "3/3 - 4s - loss: 0.7309 - accuracy: 0.9412 - val_loss: 0.3739 - val_accuracy: 0.8125 - 4s/epoch - 1s/step\n",
            "Epoch 3/25\n",
            "3/3 - 5s - loss: 0.8104 - accuracy: 0.8235 - val_loss: 0.3069 - val_accuracy: 0.9375 - 5s/epoch - 2s/step\n",
            "Epoch 4/25\n",
            "3/3 - 5s - loss: 0.1745 - accuracy: 0.9559 - val_loss: 0.6424 - val_accuracy: 0.9375 - 5s/epoch - 2s/step\n",
            "Epoch 5/25\n",
            "3/3 - 4s - loss: 0.2439 - accuracy: 0.9559 - val_loss: 0.8361 - val_accuracy: 0.9375 - 4s/epoch - 1s/step\n",
            "Epoch 6/25\n",
            "3/3 - 5s - loss: 0.1575 - accuracy: 0.9706 - val_loss: 0.7649 - val_accuracy: 0.9375 - 5s/epoch - 2s/step\n",
            "Epoch 7/25\n",
            "3/3 - 5s - loss: 0.1470 - accuracy: 0.9706 - val_loss: 0.6798 - val_accuracy: 0.9375 - 5s/epoch - 2s/step\n",
            "Epoch 8/25\n",
            "3/3 - 5s - loss: 0.0726 - accuracy: 0.9853 - val_loss: 0.5778 - val_accuracy: 0.9375 - 5s/epoch - 2s/step\n",
            "Epoch 9/25\n",
            "3/3 - 5s - loss: 0.0038 - accuracy: 1.0000 - val_loss: 0.5216 - val_accuracy: 0.9375 - 5s/epoch - 2s/step\n",
            "Epoch 10/25\n",
            "3/3 - 5s - loss: 0.0145 - accuracy: 1.0000 - val_loss: 0.4774 - val_accuracy: 0.9375 - 5s/epoch - 2s/step\n",
            "Epoch 11/25\n",
            "3/3 - 5s - loss: 0.0044 - accuracy: 1.0000 - val_loss: 0.4685 - val_accuracy: 0.9375 - 5s/epoch - 2s/step\n",
            "Epoch 12/25\n",
            "3/3 - 5s - loss: 8.8934e-04 - accuracy: 1.0000 - val_loss: 0.4985 - val_accuracy: 0.9375 - 5s/epoch - 2s/step\n",
            "Epoch 13/25\n",
            "3/3 - 5s - loss: 0.0240 - accuracy: 1.0000 - val_loss: 0.5028 - val_accuracy: 0.9375 - 5s/epoch - 2s/step\n",
            "Epoch 14/25\n",
            "3/3 - 5s - loss: 0.0027 - accuracy: 1.0000 - val_loss: 0.4887 - val_accuracy: 0.9375 - 5s/epoch - 2s/step\n",
            "Epoch 15/25\n",
            "3/3 - 5s - loss: 4.6445e-04 - accuracy: 1.0000 - val_loss: 0.4777 - val_accuracy: 0.9375 - 5s/epoch - 2s/step\n",
            "Epoch 16/25\n",
            "3/3 - 5s - loss: 0.0029 - accuracy: 1.0000 - val_loss: 0.4707 - val_accuracy: 0.9375 - 5s/epoch - 2s/step\n",
            "Epoch 17/25\n",
            "3/3 - 5s - loss: 2.3180e-04 - accuracy: 1.0000 - val_loss: 0.4688 - val_accuracy: 0.9375 - 5s/epoch - 2s/step\n",
            "Epoch 18/25\n",
            "3/3 - 5s - loss: 6.2240e-04 - accuracy: 1.0000 - val_loss: 0.4718 - val_accuracy: 0.9375 - 5s/epoch - 2s/step\n",
            "Epoch 19/25\n",
            "3/3 - 5s - loss: 2.1126e-04 - accuracy: 1.0000 - val_loss: 0.4811 - val_accuracy: 0.9375 - 5s/epoch - 2s/step\n",
            "Epoch 20/25\n",
            "3/3 - 5s - loss: 1.1853e-04 - accuracy: 1.0000 - val_loss: 0.4973 - val_accuracy: 0.9375 - 5s/epoch - 2s/step\n",
            "Epoch 21/25\n",
            "3/3 - 5s - loss: 4.8010e-04 - accuracy: 1.0000 - val_loss: 0.5099 - val_accuracy: 0.9375 - 5s/epoch - 2s/step\n",
            "Epoch 22/25\n",
            "3/3 - 5s - loss: 3.4376e-04 - accuracy: 1.0000 - val_loss: 0.5211 - val_accuracy: 0.9375 - 5s/epoch - 2s/step\n",
            "Epoch 23/25\n",
            "3/3 - 5s - loss: 6.4956e-05 - accuracy: 1.0000 - val_loss: 0.5299 - val_accuracy: 0.9375 - 5s/epoch - 2s/step\n",
            "Epoch 24/25\n",
            "3/3 - 5s - loss: 3.7259e-05 - accuracy: 1.0000 - val_loss: 0.5363 - val_accuracy: 0.9375 - 5s/epoch - 2s/step\n",
            "Epoch 25/25\n",
            "3/3 - 5s - loss: 1.1359e-04 - accuracy: 1.0000 - val_loss: 0.5401 - val_accuracy: 0.9375 - 5s/epoch - 2s/step\n"
          ]
        },
        {
          "output_type": "error",
          "ename": "NameError",
          "evalue": "ignored",
          "traceback": [
            "\u001b[0;31m---------------------------------------------------------------------------\u001b[0m",
            "\u001b[0;31mNameError\u001b[0m                                 Traceback (most recent call last)",
            "\u001b[0;32m<ipython-input-11-749447fc9728>\u001b[0m in \u001b[0;36m<cell line: 6>\u001b[0;34m()\u001b[0m\n\u001b[1;32m      4\u001b[0m \u001b[0;34m\u001b[0m\u001b[0m\n\u001b[1;32m      5\u001b[0m \u001b[0mmodel\u001b[0m\u001b[0;34m,\u001b[0m \u001b[0mhist\u001b[0m \u001b[0;34m=\u001b[0m \u001b[0mtrain_top_weights\u001b[0m\u001b[0;34m(\u001b[0m\u001b[0mtrain_ds\u001b[0m\u001b[0;34m,\u001b[0m \u001b[0meval_ds\u001b[0m\u001b[0;34m)\u001b[0m\u001b[0;34m\u001b[0m\u001b[0;34m\u001b[0m\u001b[0m\n\u001b[0;32m----> 6\u001b[0;31m \u001b[0mplot_hist\u001b[0m\u001b[0;34m(\u001b[0m\u001b[0mhist\u001b[0m\u001b[0;34m)\u001b[0m\u001b[0;34m\u001b[0m\u001b[0;34m\u001b[0m\u001b[0m\n\u001b[0m",
            "\u001b[0;32m<ipython-input-10-987a18529fcf>\u001b[0m in \u001b[0;36mplot_hist\u001b[0;34m(hist)\u001b[0m\n\u001b[1;32m      1\u001b[0m \u001b[0;32mdef\u001b[0m \u001b[0mplot_hist\u001b[0m\u001b[0;34m(\u001b[0m\u001b[0mhist\u001b[0m\u001b[0;34m)\u001b[0m\u001b[0;34m:\u001b[0m\u001b[0;34m\u001b[0m\u001b[0;34m\u001b[0m\u001b[0m\n\u001b[0;32m----> 2\u001b[0;31m     \u001b[0mplt\u001b[0m\u001b[0;34m.\u001b[0m\u001b[0mplot\u001b[0m\u001b[0;34m(\u001b[0m\u001b[0mhist\u001b[0m\u001b[0;34m.\u001b[0m\u001b[0mhistory\u001b[0m\u001b[0;34m[\u001b[0m\u001b[0;34m\"accuracy\"\u001b[0m\u001b[0;34m]\u001b[0m\u001b[0;34m)\u001b[0m\u001b[0;34m\u001b[0m\u001b[0;34m\u001b[0m\u001b[0m\n\u001b[0m\u001b[1;32m      3\u001b[0m     \u001b[0mplt\u001b[0m\u001b[0;34m.\u001b[0m\u001b[0mplot\u001b[0m\u001b[0;34m(\u001b[0m\u001b[0mhist\u001b[0m\u001b[0;34m.\u001b[0m\u001b[0mhistory\u001b[0m\u001b[0;34m[\u001b[0m\u001b[0;34m'val_accuracy'\u001b[0m\u001b[0;34m]\u001b[0m\u001b[0;34m)\u001b[0m\u001b[0;34m\u001b[0m\u001b[0;34m\u001b[0m\u001b[0m\n\u001b[1;32m      4\u001b[0m     \u001b[0mplt\u001b[0m\u001b[0;34m.\u001b[0m\u001b[0mtitle\u001b[0m\u001b[0;34m(\u001b[0m\u001b[0;34m\"Wildlife Presence Accuracy\"\u001b[0m\u001b[0;34m)\u001b[0m\u001b[0;34m\u001b[0m\u001b[0;34m\u001b[0m\u001b[0m\n\u001b[1;32m      5\u001b[0m     \u001b[0mplt\u001b[0m\u001b[0;34m.\u001b[0m\u001b[0mylabel\u001b[0m\u001b[0;34m(\u001b[0m\u001b[0;34m\"Accuracy (%)\"\u001b[0m\u001b[0;34m)\u001b[0m\u001b[0;34m\u001b[0m\u001b[0;34m\u001b[0m\u001b[0m\n",
            "\u001b[0;31mNameError\u001b[0m: name 'plt' is not defined"
          ]
        }
      ]
    },
    {
      "cell_type": "code",
      "source": [
        "plot_hist(hist)"
      ],
      "metadata": {
        "colab": {
          "base_uri": "https://localhost:8080/",
          "height": 819
        },
        "id": "tT9XoRFMTC3g",
        "outputId": "97b83e3d-4b13-4e97-e834-5c44ccea2015"
      },
      "execution_count": 16,
      "outputs": [
        {
          "output_type": "error",
          "ename": "ValueError",
          "evalue": "ignored",
          "traceback": [
            "\u001b[0;31m---------------------------------------------------------------------------\u001b[0m",
            "\u001b[0;31mValueError\u001b[0m                                Traceback (most recent call last)",
            "\u001b[0;32m<ipython-input-16-d27e9ebfb396>\u001b[0m in \u001b[0;36m<cell line: 1>\u001b[0;34m()\u001b[0m\n\u001b[0;32m----> 1\u001b[0;31m \u001b[0mplot_hist\u001b[0m\u001b[0;34m(\u001b[0m\u001b[0mhist\u001b[0m\u001b[0;34m)\u001b[0m\u001b[0;34m\u001b[0m\u001b[0;34m\u001b[0m\u001b[0m\n\u001b[0m",
            "\u001b[0;32m<ipython-input-15-987a18529fcf>\u001b[0m in \u001b[0;36mplot_hist\u001b[0;34m(hist)\u001b[0m\n\u001b[1;32m      5\u001b[0m     \u001b[0mplt\u001b[0m\u001b[0;34m.\u001b[0m\u001b[0mylabel\u001b[0m\u001b[0;34m(\u001b[0m\u001b[0;34m\"Accuracy (%)\"\u001b[0m\u001b[0;34m)\u001b[0m\u001b[0;34m\u001b[0m\u001b[0;34m\u001b[0m\u001b[0m\n\u001b[1;32m      6\u001b[0m     \u001b[0mplt\u001b[0m\u001b[0;34m.\u001b[0m\u001b[0mxlabel\u001b[0m\u001b[0;34m(\u001b[0m\u001b[0;34m\"Epoch\"\u001b[0m\u001b[0;34m)\u001b[0m\u001b[0;34m\u001b[0m\u001b[0;34m\u001b[0m\u001b[0m\n\u001b[0;32m----> 7\u001b[0;31m     \u001b[0mplt\u001b[0m\u001b[0;34m.\u001b[0m\u001b[0mlegend\u001b[0m\u001b[0;34m(\u001b[0m\u001b[0;34m[\u001b[0m\u001b[0;34m\"Train\"\u001b[0m\u001b[0;34m,\u001b[0m \u001b[0;34m\"Validation\"\u001b[0m\u001b[0;34m]\u001b[0m\u001b[0;34m,\u001b[0m \u001b[0mloc\u001b[0m\u001b[0;34m=\u001b[0m\u001b[0;34m\"upper_left\"\u001b[0m\u001b[0;34m)\u001b[0m\u001b[0;34m\u001b[0m\u001b[0;34m\u001b[0m\u001b[0m\n\u001b[0m\u001b[1;32m      8\u001b[0m     \u001b[0mplt\u001b[0m\u001b[0;34m.\u001b[0m\u001b[0mshow\u001b[0m\u001b[0;34m\u001b[0m\u001b[0;34m\u001b[0m\u001b[0m\n",
            "\u001b[0;32m/usr/local/lib/python3.9/dist-packages/matplotlib/pyplot.py\u001b[0m in \u001b[0;36mlegend\u001b[0;34m(*args, **kwargs)\u001b[0m\n\u001b[1;32m   2708\u001b[0m \u001b[0;34m@\u001b[0m\u001b[0m_copy_docstring_and_deprecators\u001b[0m\u001b[0;34m(\u001b[0m\u001b[0mAxes\u001b[0m\u001b[0;34m.\u001b[0m\u001b[0mlegend\u001b[0m\u001b[0;34m)\u001b[0m\u001b[0;34m\u001b[0m\u001b[0;34m\u001b[0m\u001b[0m\n\u001b[1;32m   2709\u001b[0m \u001b[0;32mdef\u001b[0m \u001b[0mlegend\u001b[0m\u001b[0;34m(\u001b[0m\u001b[0;34m*\u001b[0m\u001b[0margs\u001b[0m\u001b[0;34m,\u001b[0m \u001b[0;34m**\u001b[0m\u001b[0mkwargs\u001b[0m\u001b[0;34m)\u001b[0m\u001b[0;34m:\u001b[0m\u001b[0;34m\u001b[0m\u001b[0;34m\u001b[0m\u001b[0m\n\u001b[0;32m-> 2710\u001b[0;31m     \u001b[0;32mreturn\u001b[0m \u001b[0mgca\u001b[0m\u001b[0;34m(\u001b[0m\u001b[0;34m)\u001b[0m\u001b[0;34m.\u001b[0m\u001b[0mlegend\u001b[0m\u001b[0;34m(\u001b[0m\u001b[0;34m*\u001b[0m\u001b[0margs\u001b[0m\u001b[0;34m,\u001b[0m \u001b[0;34m**\u001b[0m\u001b[0mkwargs\u001b[0m\u001b[0;34m)\u001b[0m\u001b[0;34m\u001b[0m\u001b[0;34m\u001b[0m\u001b[0m\n\u001b[0m\u001b[1;32m   2711\u001b[0m \u001b[0;34m\u001b[0m\u001b[0m\n\u001b[1;32m   2712\u001b[0m \u001b[0;34m\u001b[0m\u001b[0m\n",
            "\u001b[0;32m/usr/local/lib/python3.9/dist-packages/matplotlib/axes/_axes.py\u001b[0m in \u001b[0;36mlegend\u001b[0;34m(self, *args, **kwargs)\u001b[0m\n\u001b[1;32m    316\u001b[0m         \u001b[0;32mif\u001b[0m \u001b[0mlen\u001b[0m\u001b[0;34m(\u001b[0m\u001b[0mextra_args\u001b[0m\u001b[0;34m)\u001b[0m\u001b[0;34m:\u001b[0m\u001b[0;34m\u001b[0m\u001b[0;34m\u001b[0m\u001b[0m\n\u001b[1;32m    317\u001b[0m             \u001b[0;32mraise\u001b[0m \u001b[0mTypeError\u001b[0m\u001b[0;34m(\u001b[0m\u001b[0;34m'legend only accepts two non-keyword arguments'\u001b[0m\u001b[0;34m)\u001b[0m\u001b[0;34m\u001b[0m\u001b[0;34m\u001b[0m\u001b[0m\n\u001b[0;32m--> 318\u001b[0;31m         \u001b[0mself\u001b[0m\u001b[0;34m.\u001b[0m\u001b[0mlegend_\u001b[0m \u001b[0;34m=\u001b[0m \u001b[0mmlegend\u001b[0m\u001b[0;34m.\u001b[0m\u001b[0mLegend\u001b[0m\u001b[0;34m(\u001b[0m\u001b[0mself\u001b[0m\u001b[0;34m,\u001b[0m \u001b[0mhandles\u001b[0m\u001b[0;34m,\u001b[0m \u001b[0mlabels\u001b[0m\u001b[0;34m,\u001b[0m \u001b[0;34m**\u001b[0m\u001b[0mkwargs\u001b[0m\u001b[0;34m)\u001b[0m\u001b[0;34m\u001b[0m\u001b[0;34m\u001b[0m\u001b[0m\n\u001b[0m\u001b[1;32m    319\u001b[0m         \u001b[0mself\u001b[0m\u001b[0;34m.\u001b[0m\u001b[0mlegend_\u001b[0m\u001b[0;34m.\u001b[0m\u001b[0m_remove_method\u001b[0m \u001b[0;34m=\u001b[0m \u001b[0mself\u001b[0m\u001b[0;34m.\u001b[0m\u001b[0m_remove_legend\u001b[0m\u001b[0;34m\u001b[0m\u001b[0;34m\u001b[0m\u001b[0m\n\u001b[1;32m    320\u001b[0m         \u001b[0;32mreturn\u001b[0m \u001b[0mself\u001b[0m\u001b[0;34m.\u001b[0m\u001b[0mlegend_\u001b[0m\u001b[0;34m\u001b[0m\u001b[0;34m\u001b[0m\u001b[0m\n",
            "\u001b[0;32m/usr/local/lib/python3.9/dist-packages/matplotlib/_api/deprecation.py\u001b[0m in \u001b[0;36mwrapper\u001b[0;34m(*args, **kwargs)\u001b[0m\n\u001b[1;32m    452\u001b[0m                 \u001b[0;34m\"parameter will become keyword-only %(removal)s.\"\u001b[0m\u001b[0;34m,\u001b[0m\u001b[0;34m\u001b[0m\u001b[0;34m\u001b[0m\u001b[0m\n\u001b[1;32m    453\u001b[0m                 name=name, obj_type=f\"parameter of {func.__name__}()\")\n\u001b[0;32m--> 454\u001b[0;31m         \u001b[0;32mreturn\u001b[0m \u001b[0mfunc\u001b[0m\u001b[0;34m(\u001b[0m\u001b[0;34m*\u001b[0m\u001b[0margs\u001b[0m\u001b[0;34m,\u001b[0m \u001b[0;34m**\u001b[0m\u001b[0mkwargs\u001b[0m\u001b[0;34m)\u001b[0m\u001b[0;34m\u001b[0m\u001b[0;34m\u001b[0m\u001b[0m\n\u001b[0m\u001b[1;32m    455\u001b[0m \u001b[0;34m\u001b[0m\u001b[0m\n\u001b[1;32m    456\u001b[0m     \u001b[0;31m# Don't modify *func*'s signature, as boilerplate.py needs it.\u001b[0m\u001b[0;34m\u001b[0m\u001b[0;34m\u001b[0m\u001b[0m\n",
            "\u001b[0;32m/usr/local/lib/python3.9/dist-packages/matplotlib/legend.py\u001b[0m in \u001b[0;36m__init__\u001b[0;34m(self, parent, handles, labels, loc, numpoints, markerscale, markerfirst, reverse, scatterpoints, scatteryoffsets, prop, fontsize, labelcolor, borderpad, labelspacing, handlelength, handleheight, handletextpad, borderaxespad, columnspacing, ncols, mode, fancybox, shadow, title, title_fontsize, framealpha, edgecolor, facecolor, bbox_to_anchor, bbox_transform, frameon, handler_map, title_fontproperties, alignment, ncol, draggable)\u001b[0m\n\u001b[1;32m    528\u001b[0m                     \u001b[0mloc\u001b[0m \u001b[0;34m=\u001b[0m \u001b[0mlocs\u001b[0m\u001b[0;34m[\u001b[0m\u001b[0;36m0\u001b[0m\u001b[0;34m]\u001b[0m \u001b[0;34m+\u001b[0m \u001b[0;34m' '\u001b[0m \u001b[0;34m+\u001b[0m \u001b[0mlocs\u001b[0m\u001b[0;34m[\u001b[0m\u001b[0;36m1\u001b[0m\u001b[0;34m]\u001b[0m\u001b[0;34m\u001b[0m\u001b[0;34m\u001b[0m\u001b[0m\n\u001b[1;32m    529\u001b[0m             \u001b[0;31m# check that loc is in acceptable strings\u001b[0m\u001b[0;34m\u001b[0m\u001b[0;34m\u001b[0m\u001b[0m\n\u001b[0;32m--> 530\u001b[0;31m             \u001b[0mloc\u001b[0m \u001b[0;34m=\u001b[0m \u001b[0m_api\u001b[0m\u001b[0;34m.\u001b[0m\u001b[0mcheck_getitem\u001b[0m\u001b[0;34m(\u001b[0m\u001b[0mself\u001b[0m\u001b[0;34m.\u001b[0m\u001b[0mcodes\u001b[0m\u001b[0;34m,\u001b[0m \u001b[0mloc\u001b[0m\u001b[0;34m=\u001b[0m\u001b[0mloc\u001b[0m\u001b[0;34m)\u001b[0m\u001b[0;34m\u001b[0m\u001b[0;34m\u001b[0m\u001b[0m\n\u001b[0m\u001b[1;32m    531\u001b[0m \u001b[0;34m\u001b[0m\u001b[0m\n\u001b[1;32m    532\u001b[0m         \u001b[0;32mif\u001b[0m \u001b[0mself\u001b[0m\u001b[0;34m.\u001b[0m\u001b[0misaxes\u001b[0m \u001b[0;32mand\u001b[0m \u001b[0mself\u001b[0m\u001b[0;34m.\u001b[0m\u001b[0m_outside_loc\u001b[0m\u001b[0;34m:\u001b[0m\u001b[0;34m\u001b[0m\u001b[0;34m\u001b[0m\u001b[0m\n",
            "\u001b[0;32m/usr/local/lib/python3.9/dist-packages/matplotlib/_api/__init__.py\u001b[0m in \u001b[0;36mcheck_getitem\u001b[0;34m(_mapping, **kwargs)\u001b[0m\n\u001b[1;32m    190\u001b[0m         \u001b[0;32mreturn\u001b[0m \u001b[0mmapping\u001b[0m\u001b[0;34m[\u001b[0m\u001b[0mv\u001b[0m\u001b[0;34m]\u001b[0m\u001b[0;34m\u001b[0m\u001b[0;34m\u001b[0m\u001b[0m\n\u001b[1;32m    191\u001b[0m     \u001b[0;32mexcept\u001b[0m \u001b[0mKeyError\u001b[0m\u001b[0;34m:\u001b[0m\u001b[0;34m\u001b[0m\u001b[0;34m\u001b[0m\u001b[0m\n\u001b[0;32m--> 192\u001b[0;31m         raise ValueError(\n\u001b[0m\u001b[1;32m    193\u001b[0m             \u001b[0;34m\"{!r} is not a valid value for {}; supported values are {}\"\u001b[0m\u001b[0;34m\u001b[0m\u001b[0;34m\u001b[0m\u001b[0m\n\u001b[1;32m    194\u001b[0m             .format(v, k, ', '.join(map(repr, mapping)))) from None\n",
            "\u001b[0;31mValueError\u001b[0m: 'upper_left' is not a valid value for loc; supported values are 'best', 'upper right', 'upper left', 'lower left', 'lower right', 'right', 'center left', 'center right', 'lower center', 'upper center', 'center'"
          ]
        },
        {
          "output_type": "display_data",
          "data": {
            "text/plain": [
              "<Figure size 640x480 with 1 Axes>"
            ],
            "image/png": "[encoded data removed]"
          },
          "metadata": {}
        }
      ]
    }
  ]
}