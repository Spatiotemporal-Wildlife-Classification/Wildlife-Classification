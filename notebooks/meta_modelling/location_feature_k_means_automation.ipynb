{
 "cells": [
  {
   "cell_type": "code",
   "execution_count": 1,
   "id": "0848a8d7",
   "metadata": {},
   "outputs": [],
   "source": [
    "import pandas as pd\n",
    "import numpy as np\n",
    "\n",
    "from sklearn.cluster import KMeans\n",
    "from sklearn.metrics import silhouette_score\n",
    "\n",
    "import matplotlib.pyplot as plt\n",
    "import geopandas as gpd"
   ]
  },
  {
   "cell_type": "markdown",
   "id": "689a9cbc",
   "metadata": {},
   "source": [
    "## Location Feature Gap Statistic\n",
    "\n",
    "The gap statistic is a method that will allow the automatic selection of the number of centroids to be used within the data pipeline. \n",
    "\n",
    "The gap statistic is new to me, so the notebook will comprise of information regarding the Gap statistic, followed by its use in automatic the optimal k-selection to be used within the data pipeline. \n",
    "\n",
    "References on the Gap statistic include: \n",
    "- https://towardsdatascience.com/k-means-clustering-and-the-gap-statistics-4c5d414acd29\n",
    "- https://anaconda.org/milesgranger/gap-statistic/notebook \n",
    "\n",
    "The below summaries give attribution to Tim Lohr's Medium Blog post, with the link posted above."
   ]
  },
  {
   "cell_type": "markdown",
   "id": "1f7fddc0",
   "metadata": {},
   "source": [
    "### K-means Summary\n",
    "1. Assign each data point to its nearest centroid. Calculate the euclidian distance between all points to its centroid. \n",
    "2. Calculate the mean for each centroid based on its assigned data points and move the centroid to the middle of the assigned data points. \n",
    "3. Repeat steps [1, 2] until convergence is achieved. Convergence is defined as a centroid remaining in approximate the same position within the bounds of epsilon.\n",
    "\n",
    "Note the initialization of the centroids plays a massive role in how quickly the algorithm reaches convergence.\n",
    "Notes, that the within cluster distance shrinks with the more additional clusters added, until such a point as there are as many clusters as there are data points, achieving a within cluster erroro of 0."
   ]
  },
  {
   "cell_type": "markdown",
   "id": "a54345c1",
   "metadata": {},
   "source": [
    "### Gap Statistics\n",
    "\n",
    "$$K* = argmin_{k} \\{K|G(K) \\ge G(K + 1) - s'_{K+1} \\}$$\n",
    "Estimating K* by HTF The Elements of Statistical Learning on page 519 | 14.3.11 Practical Issues\n",
    "\n",
    "Where, G(K) and $s'_{K+1}$ are defined below:\n",
    "- Introduce two data matrices data_points and average_distribution (avg distribution of within cluster distances)\n",
    "\n",
    "$$G(K) = log(\\text{average distribution}) - log(\\text{data points})$$\n",
    "$$s'_{K+1} = s_k * \\sqrt{1 + 1/20}$$\n",
    "$$s_k = \\text{std } log(\\text{average distribution}) \\text{  over 20 runs}$$\n",
    "\n",
    "##### Notice\n",
    "- Changes in distance are very high for the first few centroid changes. The more centroids intorudced the smaller the required changes in position. \n",
    "\n",
    "#### Basic Idea\n",
    "- Choose K where the biggerst jump of within cluster distance occured. \n",
    "- $s_{K+1}$ acts as a threshold to remove small alterations. "
   ]
  },
  {
   "cell_type": "markdown",
   "id": "c2de66af",
   "metadata": {},
   "source": [
    "The below optimal k method is from: https://anaconda.org/milesgranger/gap-statistic/notebook. Fully code ownership rights are givens to the author Miles Granger. Minor alterations have been made in order to fit it to the use-case below. "
   ]
  },
  {
   "cell_type": "code",
   "execution_count": 2,
   "id": "b4d4cc75",
   "metadata": {},
   "outputs": [],
   "source": [
    "def optimalK(data, nrefs=3):\n",
    "    \"\"\"\n",
    "    Calculates KMeans optimal K using Gap Statistic from Tibshirani, Walther, Hastie\n",
    "    Params:\n",
    "        data: ndarry of shape (n_samples, n_features)\n",
    "        nrefs: number of sample reference datasets to create\n",
    "    Returns: (gaps, optimalK)\n",
    "    \"\"\"\n",
    "    maxClusters = 100  # Dynamically generate maximum clusters as the number of data points.\n",
    "    gaps = np.zeros((len(range(1, maxClusters)),))  # Create a container to store the gap statistics for each k-value\n",
    "    resultsdf = pd.DataFrame({'centroids':[], 'gap':[]})  # Create a dataframe to store k-values and Gap statistics results\n",
    "    for gap_index, k in enumerate(range(1, maxClusters)):  # Iterate over all values of k from 1- maxClusters\n",
    "\n",
    "        # Holder for reference dispersion results\n",
    "        refDisps = np.zeros(nrefs)\n",
    "\n",
    "        # For n references, generate random sample and perform kmeans getting resulting dispersion of each loop\n",
    "        for i in range(nrefs):\n",
    "            \n",
    "            # Create new random reference set\n",
    "            randomReference = np.random.random_sample(size=data.shape)\n",
    "            \n",
    "            # Fit to it\n",
    "            km = KMeans(k, n_init=10)\n",
    "            km.fit(randomReference)\n",
    "            \n",
    "            refDisp = km.inertia_\n",
    "            refDisps[i] = refDisp\n",
    "\n",
    "        # Fit cluster to original data and create dispersion\n",
    "        km = KMeans(k, n_init=10)\n",
    "        km.fit(data)\n",
    "        \n",
    "        origDisp = km.inertia_\n",
    "\n",
    "        # Calculate gap statistic\n",
    "        gap = np.log(np.mean(refDisps)) - np.log(origDisp)\n",
    "\n",
    "        # Assign this loop's gap statistic to gaps\n",
    "        gaps[gap_index] = gap\n",
    "        \n",
    "        resultsdf = pd.concat([resultsdf, pd.DataFrame({'centroids':[k], 'gap':[gap]})])\n",
    "\n",
    "    return (gaps.argmax() + 1, resultsdf)  # Plus 1 because index of 0 means 1 cluster is optimal, index 2 = 3 clusters are optimal"
   ]
  },
  {
   "cell_type": "markdown",
   "id": "1b495ff9",
   "metadata": {},
   "source": [
    "## Location Feature Adaption\n",
    "\n",
    "Idea: The dataset used has two features, latitude and longitdue, creating a geographic location. These features are required to be simplified and one-hot-encoded in order to be used effectively for machile learning algorithms. \n",
    "K-means algorithm is used to determine cluster centroids, or hostposts of wildlife observations that can be used to generalize, and reduce the location feature. \n",
    "\n",
    "However each dataset is unique and dependent upon taxonomic level, hence for each model the K-means may require varying numbers of centroids. Use the Gap statistic measure to determine the optiml k centroids per dataset. \n",
    "\n",
    "#### Proboscidia Test Run"
   ]
  },
  {
   "cell_type": "code",
   "execution_count": 3,
   "id": "4857d94d",
   "metadata": {},
   "outputs": [],
   "source": [
    "file_path = '../../data/obs_and_meta/processed/'"
   ]
  },
  {
   "cell_type": "code",
   "execution_count": 4,
   "id": "2b9fa6a2",
   "metadata": {},
   "outputs": [],
   "source": [
    "def aggregate_data(observation_file: str, meta_file: str) -> pd.DataFrame:\n",
    "    obs_df = pd.read_csv(file_path + observation_file, index_col=0)\n",
    "    meta_df = pd.read_csv(file_path + meta_file, index_col=0)\n",
    "\n",
    "    obs_df = obs_df.drop(columns=['observed_on', 'local_time_observed_at', 'positional_accuracy'])\n",
    "    meta_df = meta_df.drop(columns=['lat', 'long', 'time'])\n",
    "\n",
    "    df = pd.merge(obs_df, meta_df, how='inner', left_index=True, right_index=True)\n",
    "    return df"
   ]
  },
  {
   "cell_type": "code",
   "execution_count": 5,
   "id": "7415bedf",
   "metadata": {},
   "outputs": [],
   "source": [
    "df = aggregate_data('proboscidia_train.csv', 'proboscidia_meta.csv')"
   ]
  },
  {
   "cell_type": "code",
   "execution_count": 6,
   "id": "1a037cf6",
   "metadata": {},
   "outputs": [
    {
     "data": {
      "text/html": [
       "<div>\n",
       "<style scoped>\n",
       "    .dataframe tbody tr th:only-of-type {\n",
       "        vertical-align: middle;\n",
       "    }\n",
       "\n",
       "    .dataframe tbody tr th {\n",
       "        vertical-align: top;\n",
       "    }\n",
       "\n",
       "    .dataframe thead th {\n",
       "        text-align: right;\n",
       "    }\n",
       "</style>\n",
       "<table border=\"1\" class=\"dataframe\">\n",
       "  <thead>\n",
       "    <tr style=\"text-align: right;\">\n",
       "      <th></th>\n",
       "      <th>latitude</th>\n",
       "      <th>longitude</th>\n",
       "      <th>public_positional_accuracy</th>\n",
       "      <th>image_url</th>\n",
       "      <th>license</th>\n",
       "      <th>geoprivacy</th>\n",
       "      <th>taxon_geoprivacy</th>\n",
       "      <th>scientific_name</th>\n",
       "      <th>common_name</th>\n",
       "      <th>taxon_id</th>\n",
       "      <th>...</th>\n",
       "      <th>rain_sum</th>\n",
       "      <th>snowfall_sum</th>\n",
       "      <th>precipitation_hours</th>\n",
       "      <th>sunrise</th>\n",
       "      <th>sunset</th>\n",
       "      <th>windspeed_10m_max</th>\n",
       "      <th>windgusts_10m_max</th>\n",
       "      <th>winddirection_10m_dominant</th>\n",
       "      <th>shortwave_radiation_sum</th>\n",
       "      <th>et0_fao_evapotranspiration_daily</th>\n",
       "    </tr>\n",
       "    <tr>\n",
       "      <th>id</th>\n",
       "      <th></th>\n",
       "      <th></th>\n",
       "      <th></th>\n",
       "      <th></th>\n",
       "      <th></th>\n",
       "      <th></th>\n",
       "      <th></th>\n",
       "      <th></th>\n",
       "      <th></th>\n",
       "      <th></th>\n",
       "      <th></th>\n",
       "      <th></th>\n",
       "      <th></th>\n",
       "      <th></th>\n",
       "      <th></th>\n",
       "      <th></th>\n",
       "      <th></th>\n",
       "      <th></th>\n",
       "      <th></th>\n",
       "      <th></th>\n",
       "      <th></th>\n",
       "    </tr>\n",
       "  </thead>\n",
       "  <tbody>\n",
       "    <tr>\n",
       "      <th>16344</th>\n",
       "      <td>-17.946449</td>\n",
       "      <td>25.100015</td>\n",
       "      <td>30699.0</td>\n",
       "      <td>https://inaturalist-open-data.s3.amazonaws.com...</td>\n",
       "      <td>CC-BY</td>\n",
       "      <td>NaN</td>\n",
       "      <td>obscured</td>\n",
       "      <td>Loxodonta africana</td>\n",
       "      <td>Savannah Elephant</td>\n",
       "      <td>43694</td>\n",
       "      <td>...</td>\n",
       "      <td>0.3</td>\n",
       "      <td>0.0</td>\n",
       "      <td>1.0</td>\n",
       "      <td>2007-11-30T05:33</td>\n",
       "      <td>2007-11-30T18:42</td>\n",
       "      <td>17.2</td>\n",
       "      <td>37.1</td>\n",
       "      <td>55.0</td>\n",
       "      <td>28.63</td>\n",
       "      <td>6.28</td>\n",
       "    </tr>\n",
       "    <tr>\n",
       "      <th>17097</th>\n",
       "      <td>-18.422570</td>\n",
       "      <td>24.012110</td>\n",
       "      <td>30649.0</td>\n",
       "      <td>https://inaturalist-open-data.s3.amazonaws.com...</td>\n",
       "      <td>CC-BY</td>\n",
       "      <td>NaN</td>\n",
       "      <td>obscured</td>\n",
       "      <td>Loxodonta africana</td>\n",
       "      <td>Savannah Elephant</td>\n",
       "      <td>43694</td>\n",
       "      <td>...</td>\n",
       "      <td>0.3</td>\n",
       "      <td>0.0</td>\n",
       "      <td>1.0</td>\n",
       "      <td>2007-11-16T05:37</td>\n",
       "      <td>2007-11-16T18:39</td>\n",
       "      <td>13.1</td>\n",
       "      <td>34.2</td>\n",
       "      <td>50.0</td>\n",
       "      <td>26.98</td>\n",
       "      <td>6.84</td>\n",
       "    </tr>\n",
       "    <tr>\n",
       "      <th>17099</th>\n",
       "      <td>-19.196529</td>\n",
       "      <td>23.837842</td>\n",
       "      <td>30598.0</td>\n",
       "      <td>https://inaturalist-open-data.s3.amazonaws.com...</td>\n",
       "      <td>CC-BY</td>\n",
       "      <td>NaN</td>\n",
       "      <td>obscured</td>\n",
       "      <td>Loxodonta africana</td>\n",
       "      <td>Savannah Elephant</td>\n",
       "      <td>43694</td>\n",
       "      <td>...</td>\n",
       "      <td>0.6</td>\n",
       "      <td>0.0</td>\n",
       "      <td>3.0</td>\n",
       "      <td>2007-11-17T05:37</td>\n",
       "      <td>2007-11-17T18:42</td>\n",
       "      <td>14.4</td>\n",
       "      <td>30.6</td>\n",
       "      <td>50.0</td>\n",
       "      <td>26.12</td>\n",
       "      <td>6.38</td>\n",
       "    </tr>\n",
       "    <tr>\n",
       "      <th>17110</th>\n",
       "      <td>-13.190468</td>\n",
       "      <td>31.680375</td>\n",
       "      <td>31045.0</td>\n",
       "      <td>https://inaturalist-open-data.s3.amazonaws.com...</td>\n",
       "      <td>CC-BY</td>\n",
       "      <td>NaN</td>\n",
       "      <td>obscured</td>\n",
       "      <td>Loxodonta africana</td>\n",
       "      <td>Savannah Elephant</td>\n",
       "      <td>43694</td>\n",
       "      <td>...</td>\n",
       "      <td>0.7</td>\n",
       "      <td>0.0</td>\n",
       "      <td>4.0</td>\n",
       "      <td>2007-11-12T05:15</td>\n",
       "      <td>2007-11-12T17:59</td>\n",
       "      <td>15.9</td>\n",
       "      <td>38.2</td>\n",
       "      <td>144.0</td>\n",
       "      <td>22.19</td>\n",
       "      <td>5.37</td>\n",
       "    </tr>\n",
       "    <tr>\n",
       "      <th>17119</th>\n",
       "      <td>-13.148463</td>\n",
       "      <td>31.648811</td>\n",
       "      <td>31045.0</td>\n",
       "      <td>https://inaturalist-open-data.s3.amazonaws.com...</td>\n",
       "      <td>CC-BY</td>\n",
       "      <td>NaN</td>\n",
       "      <td>obscured</td>\n",
       "      <td>Loxodonta africana</td>\n",
       "      <td>Savannah Elephant</td>\n",
       "      <td>43694</td>\n",
       "      <td>...</td>\n",
       "      <td>0.7</td>\n",
       "      <td>0.0</td>\n",
       "      <td>4.0</td>\n",
       "      <td>2007-11-12T05:15</td>\n",
       "      <td>2007-11-12T17:59</td>\n",
       "      <td>15.9</td>\n",
       "      <td>38.2</td>\n",
       "      <td>144.0</td>\n",
       "      <td>22.19</td>\n",
       "      <td>5.24</td>\n",
       "    </tr>\n",
       "  </tbody>\n",
       "</table>\n",
       "<p>5 rows × 65 columns</p>\n",
       "</div>"
      ],
      "text/plain": [
       "        latitude  longitude  public_positional_accuracy  \\\n",
       "id                                                        \n",
       "16344 -17.946449  25.100015                     30699.0   \n",
       "17097 -18.422570  24.012110                     30649.0   \n",
       "17099 -19.196529  23.837842                     30598.0   \n",
       "17110 -13.190468  31.680375                     31045.0   \n",
       "17119 -13.148463  31.648811                     31045.0   \n",
       "\n",
       "                                               image_url license geoprivacy  \\\n",
       "id                                                                            \n",
       "16344  https://inaturalist-open-data.s3.amazonaws.com...   CC-BY        NaN   \n",
       "17097  https://inaturalist-open-data.s3.amazonaws.com...   CC-BY        NaN   \n",
       "17099  https://inaturalist-open-data.s3.amazonaws.com...   CC-BY        NaN   \n",
       "17110  https://inaturalist-open-data.s3.amazonaws.com...   CC-BY        NaN   \n",
       "17119  https://inaturalist-open-data.s3.amazonaws.com...   CC-BY        NaN   \n",
       "\n",
       "      taxon_geoprivacy     scientific_name        common_name  taxon_id  ...  \\\n",
       "id                                                                       ...   \n",
       "16344         obscured  Loxodonta africana  Savannah Elephant     43694  ...   \n",
       "17097         obscured  Loxodonta africana  Savannah Elephant     43694  ...   \n",
       "17099         obscured  Loxodonta africana  Savannah Elephant     43694  ...   \n",
       "17110         obscured  Loxodonta africana  Savannah Elephant     43694  ...   \n",
       "17119         obscured  Loxodonta africana  Savannah Elephant     43694  ...   \n",
       "\n",
       "      rain_sum snowfall_sum precipitation_hours           sunrise  \\\n",
       "id                                                                  \n",
       "16344      0.3          0.0                 1.0  2007-11-30T05:33   \n",
       "17097      0.3          0.0                 1.0  2007-11-16T05:37   \n",
       "17099      0.6          0.0                 3.0  2007-11-17T05:37   \n",
       "17110      0.7          0.0                 4.0  2007-11-12T05:15   \n",
       "17119      0.7          0.0                 4.0  2007-11-12T05:15   \n",
       "\n",
       "                 sunset windspeed_10m_max windgusts_10m_max  \\\n",
       "id                                                            \n",
       "16344  2007-11-30T18:42              17.2              37.1   \n",
       "17097  2007-11-16T18:39              13.1              34.2   \n",
       "17099  2007-11-17T18:42              14.4              30.6   \n",
       "17110  2007-11-12T17:59              15.9              38.2   \n",
       "17119  2007-11-12T17:59              15.9              38.2   \n",
       "\n",
       "      winddirection_10m_dominant shortwave_radiation_sum  \\\n",
       "id                                                         \n",
       "16344                       55.0                   28.63   \n",
       "17097                       50.0                   26.98   \n",
       "17099                       50.0                   26.12   \n",
       "17110                      144.0                   22.19   \n",
       "17119                      144.0                   22.19   \n",
       "\n",
       "       et0_fao_evapotranspiration_daily  \n",
       "id                                       \n",
       "16344                              6.28  \n",
       "17097                              6.84  \n",
       "17099                              6.38  \n",
       "17110                              5.37  \n",
       "17119                              5.24  \n",
       "\n",
       "[5 rows x 65 columns]"
      ]
     },
     "execution_count": 6,
     "metadata": {},
     "output_type": "execute_result"
    }
   ],
   "source": [
    "df.head()"
   ]
  },
  {
   "cell_type": "markdown",
   "id": "4d16ec2c",
   "metadata": {},
   "source": [
    "Showcase the original locations from the dataset."
   ]
  },
  {
   "cell_type": "code",
   "execution_count": 7,
   "id": "9017a8de",
   "metadata": {},
   "outputs": [
    {
     "data": {
      "image/png": "[encoded data removed]",
      "text/plain": [
       "<Figure size 1200x600 with 1 Axes>"
      ]
     },
     "metadata": {},
     "output_type": "display_data"
    }
   ],
   "source": [
    "worldmap = gpd.read_file(gpd.datasets.get_path(\"naturalearth_lowres\"))\n",
    "\n",
    "fig, ax = plt.subplots(figsize=(12, 6))\n",
    "worldmap.plot(color=\"lightgrey\", ax=ax)\n",
    "\n",
    "\n",
    "colours = {'Loxodonta africana': 'tab:blue', \n",
    "           'Elephas maximus': 'tab:green',\n",
    "          'Loxodonta cyclotis': 'tab:red'}\n",
    "\n",
    "# Africana Species\n",
    "africana_df = df[df['taxon_species_name'] == 'Loxodonta africana']\n",
    "africana_x = africana_df['longitude']\n",
    "africana_y = africana_df['latitude']\n",
    "\n",
    "# Maximus Species\n",
    "maximus_df = df[df['taxon_species_name'] == 'Elephas maximus']\n",
    "maximus_x = maximus_df['longitude']\n",
    "maximus_y = maximus_df['latitude']\n",
    "\n",
    "#Cyclotis\n",
    "cyc_df = df[df['taxon_species_name'] == 'Loxodonta cyclotis']\n",
    "cyc_x = cyc_df['longitude']\n",
    "cyc_y = cyc_df['latitude']\n",
    "\n",
    "# Scatter plots\n",
    "scatter = plt.scatter(africana_x, africana_y, s=2.5, alpha=0.6, c='blue', label='Loxodonta africana')\n",
    "scatter = plt.scatter(maximus_x, maximus_y, s=2.5, alpha=0.6, c='green', label='Elephas maximus')\n",
    "scatter = plt.scatter(cyc_x, cyc_y, s=2.5, alpha=0.6, c='red', label='Loxodonta cyclotis')\n",
    "\n",
    "\n",
    "# Creating axis limits and title\n",
    "plt.xlim([-180, 180])\n",
    "plt.ylim([-90, 90])\n",
    "\n",
    "plt.xlabel(\"Longitude\", fontsize=16)\n",
    "plt.ylabel(\"Latitude\", fontsize=16)\n",
    "plt.title(\"Elephantidae Species Geographical Distribution\", fontsize=16)\n",
    "plt.legend(fontsize=16)\n",
    "\n",
    "plt.show()"
   ]
  },
  {
   "cell_type": "markdown",
   "id": "9f97f9fa",
   "metadata": {},
   "source": [
    "Execute the Gap Statistic algorithm of the latitude and longitude features of the Elephant dataset. Plot the resulting k centroids to determine how well they generalize the observations."
   ]
  },
  {
   "cell_type": "code",
   "execution_count": 8,
   "id": "c8e1da00",
   "metadata": {},
   "outputs": [],
   "source": [
    "location_df = df[['latitude', 'longitude']]"
   ]
  },
  {
   "cell_type": "code",
   "execution_count": null,
   "id": "f0ade899",
   "metadata": {},
   "outputs": [],
   "source": [
    "k, gap_analysis = optimalK(location_df, 3)"
   ]
  },
  {
   "cell_type": "code",
   "execution_count": null,
   "id": "c0dccdc2",
   "metadata": {},
   "outputs": [],
   "source": [
    "print(k)"
   ]
  },
  {
   "cell_type": "code",
   "execution_count": null,
   "id": "d5d58872",
   "metadata": {},
   "outputs": [],
   "source": [
    "plt.plot(gap_analysis['centroids'], gap_analysis['gap'])\n",
    "plt.scatter(gap_analysis[gap_analysis['centroids'] == k]['centroids'], \n",
    "            gap_analysis[gap_analysis['centroids'] == k]['gap'], s=250, c='r')\n",
    "\n",
    "plt.grid(True)\n",
    "plt.xlabel('K centroids')\n",
    "plt.ylabel('Gap statistic')\n",
    "plt.title('Gap Statistic on Elephant Dataset')\n",
    "plt.show()"
   ]
  },
  {
   "cell_type": "markdown",
   "id": "2b4199f3",
   "metadata": {},
   "source": [
    "### Gaps Statistic Analysis\n",
    "\n",
    "The above plot shows a steadily rising gap statistic measure well into k=100 cerntroids and above. This method is proving to be too delicate and selective in the number of centroids it produces. An optimal method for the above problem is required to make a robust decision that captures coarse scale features indicating observation hotspots. \n",
    "Alternative methods are required to be looked into below. "
   ]
  },
  {
   "cell_type": "markdown",
   "id": "68a492c1",
   "metadata": {},
   "source": [
    "## Silhoute Score\n",
    "\n",
    "Reference for code for Silhoute score from: https://medium.com/analytics-vidhya/how-to-determine-the-optimal-k-for-k-means-708505d204eb\n",
    "\n",
    "#### Basic Explanation\n",
    "The Silhouette value measures how similar a point is to its own cluster (cohesion) compared to other clusters. \n",
    "The Silhouette score ranges between [-1, 1]. A negative score indicates that we have created too few or too many clusters."
   ]
  },
  {
   "cell_type": "code",
   "execution_count": null,
   "id": "554139dd",
   "metadata": {},
   "outputs": [],
   "source": [
    "def calculate_optimal_k(data, k_max, interval, k_init):\n",
    "    sil = []\n",
    "    \n",
    "    k = k_init\n",
    "    while k <= k_max:\n",
    "        k_means = KMeans(n_clusters=k,  n_init=10).fit(data)\n",
    "        labels = k_means.labels_\n",
    "\n",
    "        sil.append(silhouette_score(data, labels))\n",
    "        \n",
    "        k += interval\n",
    "    return sil"
   ]
  },
  {
   "cell_type": "code",
   "execution_count": null,
   "id": "f1defd90",
   "metadata": {},
   "outputs": [],
   "source": [
    "sil_scores = calculate_optimal_k(location_df, 30, 1, 2)\n",
    "k_values = range(2, 31, 1)"
   ]
  },
  {
   "cell_type": "code",
   "execution_count": null,
   "id": "5bb8f9d2",
   "metadata": {},
   "outputs": [],
   "source": [
    "silhouette_optimal = np.argmax(sil_scores)\n",
    "print(k_values[silhouette_optimal])"
   ]
  },
  {
   "cell_type": "code",
   "execution_count": null,
   "id": "ba818107",
   "metadata": {},
   "outputs": [],
   "source": [
    "plt.plot(k_values, sil_scores)\n",
    "plt.scatter(x=11, y=sil_scores[silhouette_optimal], s=250, c='r')\n",
    "\n",
    "plt.grid(True)\n",
    "plt.xlabel('Centroids', fontsize=9)\n",
    "plt.ylabel('Silhouette Score', fontsize=9)\n",
    "plt.title('Silhouette Exploration of Elephantidae Location Data', fontsize=9)\n",
    "plt.show()"
   ]
  },
  {
   "cell_type": "markdown",
   "id": "81df8d6e",
   "metadata": {},
   "source": [
    "Verify number of clusters by plotting onto world map."
   ]
  },
  {
   "cell_type": "code",
   "execution_count": null,
   "id": "8925d1ea",
   "metadata": {},
   "outputs": [],
   "source": [
    "k_means_elephantidae = KMeans(n_clusters=13, n_init=10)\n",
    "k_means_elephantidae.fit(location_df)\n",
    "clusters = k_means_elephantidae.cluster_centers_"
   ]
  },
  {
   "cell_type": "code",
   "execution_count": null,
   "id": "f4784104",
   "metadata": {},
   "outputs": [],
   "source": [
    "worldmap = gpd.read_file(gpd.datasets.get_path(\"naturalearth_lowres\"))\n",
    "\n",
    "fig, ax = plt.subplots(figsize=(12, 6))\n",
    "worldmap.plot(color=\"lightgrey\", ax=ax)\n",
    "\n",
    "latitude = clusters[:, 0]\n",
    "longitude = clusters[:, 1]\n",
    "\n",
    "plt.scatter(longitude, latitude, s=30, alpha=0.9)\n",
    "\n",
    "# Creating axis limits and title\n",
    "plt.xlim([-180, 180])\n",
    "plt.ylim([-90, 90])\n",
    "\n",
    "plt.xlabel(\"Longitude\", fontsize=16)\n",
    "plt.ylabel(\"Latitude\", fontsize=16)\n",
    "\n",
    "plt.title(\"Elephantidae Species Observation Hotspots\", fontsize=16)\n",
    "\n",
    "plt.show()"
   ]
  },
  {
   "cell_type": "markdown",
   "id": "5d933394",
   "metadata": {},
   "source": [
    "The Silhouette score seems to be capturing the observation hotspots appropriately using the Elephant dataset. The Silhoutte score generates a k-value of 13. This is close to the elbow score evaluated at 18-20. For further proof of concept in the applied case. The Silhouette score will be generated on the Felid dataset next. "
   ]
  },
  {
   "cell_type": "markdown",
   "id": "d0be4690",
   "metadata": {},
   "source": [
    "### Felid Application"
   ]
  },
  {
   "cell_type": "code",
   "execution_count": null,
   "id": "3da7808d",
   "metadata": {},
   "outputs": [],
   "source": [
    "df = aggregate_data('felids_train.csv', 'felids_meta.csv')"
   ]
  },
  {
   "cell_type": "markdown",
   "id": "d6aa1632",
   "metadata": {},
   "source": [
    "Remove Catus catus (Common housecat) as the inclusion of this non-wildlife species removes all variance from  the dataset."
   ]
  },
  {
   "cell_type": "code",
   "execution_count": null,
   "id": "ca56c58f",
   "metadata": {},
   "outputs": [],
   "source": [
    "df = df[df['taxon_species_name'] != 'Felis catus']"
   ]
  },
  {
   "cell_type": "code",
   "execution_count": null,
   "id": "d2b5c8e1",
   "metadata": {},
   "outputs": [],
   "source": [
    "worldmap = gpd.read_file(gpd.datasets.get_path(\"naturalearth_lowres\"))\n",
    "\n",
    "fig, ax = plt.subplots(figsize=(12, 6))\n",
    "worldmap.plot(color=\"lightgrey\", ax=ax)\n",
    "\n",
    "x = df['longitude']\n",
    "y = df['latitude']\n",
    "\n",
    "scatter = plt.scatter(x, y, s=2.5, alpha=0.6, c='blue')\n",
    "\n",
    "# Creating axis limits and title\n",
    "plt.xlim([-180, 180])\n",
    "plt.ylim([-90, 90])\n",
    "\n",
    "plt.xlabel(\"Longitude\")\n",
    "plt.ylabel(\"Latitude\")\n",
    "plt.title(\"Felid Genus Geographical Distribution\")\n",
    "\n",
    "plt.show()"
   ]
  },
  {
   "cell_type": "code",
   "execution_count": null,
   "id": "c266d90d",
   "metadata": {},
   "outputs": [],
   "source": [
    "location_df = df[['latitude', 'longitude']]"
   ]
  },
  {
   "cell_type": "code",
   "execution_count": null,
   "id": "7e7300f3",
   "metadata": {},
   "outputs": [],
   "source": [
    "sil_scores = calculate_optimal_k(location_df, 102, 2, 5)"
   ]
  },
  {
   "cell_type": "code",
   "execution_count": null,
   "id": "e8c44be8",
   "metadata": {},
   "outputs": [],
   "source": [
    "k_values = range(5, 102, 2)"
   ]
  },
  {
   "cell_type": "code",
   "execution_count": null,
   "id": "76d7129f",
   "metadata": {},
   "outputs": [],
   "source": [
    "silhouette_optimal = np.argmax(sil_scores)\n",
    "print(k_values[silhouette_optimal])"
   ]
  },
  {
   "cell_type": "code",
   "execution_count": null,
   "id": "08318d6f",
   "metadata": {},
   "outputs": [],
   "source": [
    "plt.plot(k_values, sil_scores)\n",
    "plt.scatter(x=11, y=sil_scores[silhouette_optimal], s=250, c='r')\n",
    "\n",
    "plt.grid(True)\n",
    "\n",
    "plt.xlabel('K Centroids')\n",
    "plt.ylabel('Silhouette Score')\n",
    "plt.title('ASilhouette Exploration of Elephant Location Data')\n",
    "plt.show()"
   ]
  },
  {
   "cell_type": "code",
   "execution_count": null,
   "id": "6b37f75c",
   "metadata": {},
   "outputs": [],
   "source": [
    "silhouette_optimal = np.argmax(sil_scores)\n",
    "print(k_values[silhouette_optimal])"
   ]
  },
  {
   "cell_type": "code",
   "execution_count": null,
   "id": "c58101f8",
   "metadata": {},
   "outputs": [],
   "source": [
    "k_means = KMeans(n_clusters=55, n_init=10)\n",
    "k_means.fit(location_df)\n",
    "clusters = k_means.cluster_centers_"
   ]
  },
  {
   "cell_type": "code",
   "execution_count": null,
   "id": "443a0911",
   "metadata": {},
   "outputs": [],
   "source": [
    "worldmap = gpd.read_file(gpd.datasets.get_path(\"naturalearth_lowres\"))\n",
    "\n",
    "fig, ax = plt.subplots(figsize=(12, 6))\n",
    "worldmap.plot(color=\"lightgrey\", ax=ax)\n",
    "\n",
    "latitude = clusters[:, 0]\n",
    "longitude = clusters[:, 1]\n",
    "\n",
    "plt.scatter(longitude, latitude, s=10, alpha=0.6)\n",
    "\n",
    "# Creating axis limits and title\n",
    "plt.xlim([-180, 180])\n",
    "plt.ylim([-90, 90])\n",
    "\n",
    "plt.xlabel(\"Longitude\")\n",
    "plt.ylabel(\"Latitude\")\n",
    "\n",
    "plt.title(\"Felid Observation Hotspots\")\n",
    "\n",
    "plt.show()"
   ]
  },
  {
   "cell_type": "markdown",
   "id": "627af31c",
   "metadata": {},
   "source": [
    "The Silhouette score coincides with the elbow method in selecting an approximate number of centroids within the range of 55-60 centroids. The verification of the Silhouette method on both Wildlife families is verification fo the utility of this method, and as such it will be used within the modelling pipeline to automate the selection of k-location features."
   ]
  },
  {
   "cell_type": "markdown",
   "id": "be7139fc",
   "metadata": {},
   "source": [
    "## Join Geographic Visualization using Hotspots"
   ]
  },
  {
   "cell_type": "code",
   "execution_count": null,
   "id": "a30c323b",
   "metadata": {},
   "outputs": [],
   "source": [
    "df_elephantidae = aggregate_data('proboscidia_train.csv', 'proboscidia_meta.csv')\n",
    "df_felids = aggregate_data('felids_final.csv', 'felids_meta.csv')\n",
    "\n",
    "df_felids = df_felids[df_felids['taxon_species_name'] != 'Felis catus']"
   ]
  },
  {
   "cell_type": "code",
   "execution_count": null,
   "id": "dec64ebf",
   "metadata": {},
   "outputs": [],
   "source": [
    "location_df_elephantidae = df_elephantidae[['latitude', 'longitude']]\n",
    "location_df_felids = df_felids[['latitude', 'longitude']]"
   ]
  },
  {
   "cell_type": "code",
   "execution_count": null,
   "id": "d99a8d57",
   "metadata": {},
   "outputs": [],
   "source": [
    "k_means_elephantidae = KMeans(n_clusters=13, n_init=10)\n",
    "k_means_elephantidae.fit(location_df_elephantidae)\n",
    "clusters_elephantidae = k_means_elephantidae.cluster_centers_\n",
    "predicts_elephantidae = k_means_elephantidae.predict(location_df_elephantidae)"
   ]
  },
  {
   "cell_type": "code",
   "execution_count": null,
   "id": "561eac10",
   "metadata": {},
   "outputs": [],
   "source": [
    "k_means_felids = KMeans(n_clusters=55, n_init=10)\n",
    "k_means_felids.fit(location_df_felids)\n",
    "clusters_felids = k_means_felids.cluster_centers_\n",
    "predicts_felids = k_means_felids.predict(location_df_felids)"
   ]
  },
  {
   "cell_type": "code",
   "execution_count": null,
   "id": "fa44055e",
   "metadata": {},
   "outputs": [],
   "source": [
    "counts_elephantidae = pd.DataFrame({'counts':predicts_elephantidae})\n",
    "counts_felids = pd.DataFrame({'counts':predicts_felids})"
   ]
  },
  {
   "cell_type": "code",
   "execution_count": null,
   "id": "f0d92504",
   "metadata": {},
   "outputs": [],
   "source": [
    "density_elephantidae = counts_elephantidae.value_counts()\n",
    "density_felids = counts_felids.value_counts()"
   ]
  },
  {
   "cell_type": "code",
   "execution_count": null,
   "id": "034e8909",
   "metadata": {},
   "outputs": [],
   "source": [
    "worldmap = gpd.read_file(gpd.datasets.get_path(\"naturalearth_lowres\"))\n",
    "\n",
    "fig, ax = plt.subplots(figsize=(12, 6))\n",
    "worldmap.plot(color=\"lightgrey\", ax=ax)\n",
    "\n",
    "\n",
    "plt.scatter(x=clusters_elephantidae[:, 1], y=clusters_elephantidae[:, 0], s=density_elephantidae/15 , alpha=0.3, c='blue', label='Elephantidae')\n",
    "plt.scatter(x=clusters_felids[:, 1], y=clusters_felids[:, 0], s=density_felids/15 , alpha=0.3, c='red', label='Felids')\n",
    "\n",
    "\n",
    "# Creating axis limits and title\n",
    "plt.xlim([-180, 180])\n",
    "plt.ylim([-90, 90])\n",
    "\n",
    "plt.legend()\n",
    "plt.xlabel(\"Longitude\")\n",
    "plt.ylabel(\"Latitude\")\n",
    "plt.title('Dataset Geographic Distribution')\n",
    "\n",
    "plt.show()"
   ]
  }
 ],
 "metadata": {
  "kernelspec": {
   "display_name": "spatiotemp_class_env",
   "language": "python",
   "name": "spatiotemp_class_env"
  },
  "language_info": {
   "codemirror_mode": {
    "name": "ipython",
    "version": 3
   },
   "file_extension": ".py",
   "mimetype": "text/x-python",
   "name": "python",
   "nbconvert_exporter": "python",
   "pygments_lexer": "ipython3",
   "version": "3.10.9"
  }
 },
 "nbformat": 4,
 "nbformat_minor": 5
}
