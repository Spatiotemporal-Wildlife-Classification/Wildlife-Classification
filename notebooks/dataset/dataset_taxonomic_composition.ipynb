{
 "cells": [
  {
   "cell_type": "code",
   "execution_count": 3,
   "id": "5cd7f20b",
   "metadata": {},
   "outputs": [],
   "source": [
    "import pandas as pd\n",
    "import numpy as np"
   ]
  },
  {
   "cell_type": "markdown",
   "id": "3d31176b",
   "metadata": {},
   "source": [
    "### Import Original Dataset"
   ]
  },
  {
   "cell_type": "code",
   "execution_count": 17,
   "id": "67ddd185",
   "metadata": {},
   "outputs": [],
   "source": [
    "file_path = '../../data/obs_and_meta/processed/'\n",
    "proboscidia_df = pd.read_csv(file_path + 'proboscidia_train.csv', index_col=0)\n",
    "felids_df = pd.read_csv(file_path + 'felids_train.csv', index_col=0)\n",
    "validation_df = pd.read_csv(file_path + 'validation.csv', index_col=0)"
   ]
  },
  {
   "cell_type": "markdown",
   "id": "cde46dec",
   "metadata": {},
   "source": [
    "Concatenate seperate datasets and apply *Felis Catus* restriction"
   ]
  },
  {
   "cell_type": "code",
   "execution_count": 18,
   "id": "ccea88c9",
   "metadata": {},
   "outputs": [],
   "source": [
    "df = pd.concat([proboscidia_df, felids_df])\n",
    "df = pd.concat([df, validation_df])\n",
    "df = df[df['taxon_species_name'] != 'Felis catus']"
   ]
  },
  {
   "cell_type": "markdown",
   "id": "c057f760",
   "metadata": {},
   "source": [
    "Apply the sub-species detection method."
   ]
  },
  {
   "cell_type": "code",
   "execution_count": 19,
   "id": "2c48c39f",
   "metadata": {},
   "outputs": [],
   "source": [
    "def sub_species_detection(x):\n",
    "    name_count = len(x['scientific_name'].split())\n",
    "    x['sub_species'] = np.nan\n",
    "    if name_count >= 3:\n",
    "        x['sub_species'] = x['scientific_name']\n",
    "    return x"
   ]
  },
  {
   "cell_type": "code",
   "execution_count": 20,
   "id": "30580a4e",
   "metadata": {},
   "outputs": [],
   "source": [
    "df = df.apply(lambda x: sub_species_detection(x), axis=1)"
   ]
  },
  {
   "cell_type": "markdown",
   "id": "24633cb1",
   "metadata": {},
   "source": [
    "### Family Taxon"
   ]
  },
  {
   "cell_type": "code",
   "execution_count": 21,
   "id": "bf892fb8",
   "metadata": {},
   "outputs": [
    {
     "data": {
      "text/plain": [
       "taxon_family_name\n",
       "Felidae              44698\n",
       "Elephantidae         11289\n",
       "dtype: int64"
      ]
     },
     "execution_count": 21,
     "metadata": {},
     "output_type": "execute_result"
    }
   ],
   "source": [
    "df.value_counts(subset=['taxon_family_name'])"
   ]
  },
  {
   "cell_type": "markdown",
   "id": "05a223f9",
   "metadata": {},
   "source": [
    "### Genus Taxon"
   ]
  },
  {
   "cell_type": "code",
   "execution_count": 22,
   "id": "895b4323",
   "metadata": {},
   "outputs": [
    {
     "data": {
      "text/plain": [
       "taxon_genus_name\n",
       "Lynx                20133\n",
       "Panthera            12407\n",
       "Loxodonta            9404\n",
       "Puma                 5238\n",
       "Leopardus            2219\n",
       "Elephas              1885\n",
       "Acinonyx             1872\n",
       "Felis                 991\n",
       "Caracal               595\n",
       "Herpailurus           448\n",
       "Leptailurus           442\n",
       "Prionailurus          291\n",
       "Neofelis               24\n",
       "Otocolobus             20\n",
       "Pardofelis             11\n",
       "Catopuma                7\n",
       "dtype: int64"
      ]
     },
     "execution_count": 22,
     "metadata": {},
     "output_type": "execute_result"
    }
   ],
   "source": [
    "df.value_counts(subset=['taxon_genus_name'])"
   ]
  },
  {
   "cell_type": "markdown",
   "id": "ab244127",
   "metadata": {},
   "source": [
    "### Species Taxon"
   ]
  },
  {
   "cell_type": "code",
   "execution_count": 23,
   "id": "b623c5ea",
   "metadata": {},
   "outputs": [
    {
     "data": {
      "text/plain": [
       "taxon_species_name      \n",
       "Lynx rufus                  19037\n",
       "Loxodonta africana           8936\n",
       "Panthera leo                 6781\n",
       "Puma concolor                5238\n",
       "Panthera pardus              2963\n",
       "Elephas maximus              1885\n",
       "Acinonyx jubatus             1872\n",
       "Panthera onca                1830\n",
       "Leopardus pardalis           1324\n",
       "Panthera tigris               787\n",
       "Lynx canadensis               727\n",
       "Caracal caracal               573\n",
       "Herpailurus yagouaroundi      448\n",
       "Leptailurus serval            442\n",
       "Felis lybica                  372\n",
       "Leopardus wiedii              362\n",
       "Felis silvestris              345\n",
       "Leopardus geoffroyi           287\n",
       "Lynx lynx                     260\n",
       "Felis chaus                   228\n",
       "Loxodonta cyclotis            222\n",
       "Prionailurus bengalensis      178\n",
       "Lynx pardinus                 109\n",
       "Prionailurus javanensis        77\n",
       "Leopardus tigrinus             67\n",
       "Leopardus guigna               55\n",
       "Leopardus guttulus             47\n",
       "Panthera uncia                 46\n",
       "Caracal aurata                 22\n",
       "Otocolobus manul               20\n",
       "Neofelis diardi                19\n",
       "Felis nigripes                 18\n",
       "Prionailurus viverrinus        17\n",
       "Leopardus pajeros              16\n",
       "Leopardus colocola             16\n",
       "Leopardus garleppi             12\n",
       "Prionailurus rubiginosus       12\n",
       "Pardofelis marmorata           11\n",
       "Leopardus emiliae              10\n",
       "Felis margarita                10\n",
       "Leopardus braccatus             9\n",
       "Leopardus jacobita              7\n",
       "Prionailurus planiceps          7\n",
       "Catopuma temminckii             6\n",
       "Neofelis nebulosa               5\n",
       "Felis bieti                     4\n",
       "Leopardus fasciatus             2\n",
       "Catopuma badia                  1\n",
       "dtype: int64"
      ]
     },
     "execution_count": 23,
     "metadata": {},
     "output_type": "execute_result"
    }
   ],
   "source": [
    "df.value_counts(subset=['taxon_species_name'])"
   ]
  },
  {
   "cell_type": "markdown",
   "id": "50b041e2",
   "metadata": {},
   "source": [
    "### Sub-species Taxon"
   ]
  },
  {
   "cell_type": "code",
   "execution_count": 24,
   "id": "94084b46",
   "metadata": {},
   "outputs": [
    {
     "data": {
      "text/plain": [
       "sub_species                      \n",
       "Panthera leo melanochaita            5586\n",
       "Panthera pardus pardus               2448\n",
       "Acinonyx jubatus jubatus             1642\n",
       "Elephas maximus indicus               877\n",
       "Panthera leo leo                      786\n",
       "                                     ... \n",
       "Pardofelis marmorata longicaudata       1\n",
       "Catopuma temminckii temminckii          1\n",
       "Felis margarita thinobia                1\n",
       "Felis chaus chaus                       1\n",
       "Loxodonta africana × cyclotis           1\n",
       "Length: 69, dtype: int64"
      ]
     },
     "execution_count": 24,
     "metadata": {},
     "output_type": "execute_result"
    }
   ],
   "source": [
    "df.value_counts(subset=['sub_species'])"
   ]
  }
 ],
 "metadata": {
  "kernelspec": {
   "display_name": "spatiotemp_class_env",
   "language": "python",
   "name": "spatiotemp_class_env"
  },
  "language_info": {
   "codemirror_mode": {
    "name": "ipython",
    "version": 3
   },
   "file_extension": ".py",
   "mimetype": "text/x-python",
   "name": "python",
   "nbconvert_exporter": "python",
   "pygments_lexer": "ipython3",
   "version": "3.10.9"
  }
 },
 "nbformat": 4,
 "nbformat_minor": 5
}
