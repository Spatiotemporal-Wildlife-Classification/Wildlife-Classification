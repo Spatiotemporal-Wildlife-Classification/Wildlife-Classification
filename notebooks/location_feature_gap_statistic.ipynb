{
 "cells": [
  {
   "cell_type": "code",
   "execution_count": 1,
   "id": "0848a8d7",
   "metadata": {},
   "outputs": [],
   "source": [
    "import pandas as pd\n",
    "import numpy as np"
   ]
  },
  {
   "cell_type": "markdown",
   "id": "689a9cbc",
   "metadata": {},
   "source": [
    "## Location Feature Gap Statistic\n",
    "\n",
    "The gap statistic is a method that will allow the automatic selection of the number of centroids to be used within the data pipeline. \n",
    "\n",
    "The gap statistic is new to me, so the notebook will comprise of information regarding the Gap statistic, followed by its use in automatic the optimal k-selection to be used within the data pipeline. \n",
    "\n",
    "References on the Gap statistic include: \n",
    "- https://towardsdatascience.com/k-means-clustering-and-the-gap-statistics-4c5d414acd29\n",
    "- https://anaconda.org/milesgranger/gap-statistic/notebook "
   ]
  },
  {
   "cell_type": "markdown",
   "id": "1f7fddc0",
   "metadata": {},
   "source": [
    "### K-means Summary\n",
    "1. Assign each data point to its nearest centroid. Calculate the euclidian distance between all points to its centroid. \n",
    "2. Calculate the mean for each centroid based on its assigned data points and move the centroid to the middle of the assigned data points. \n",
    "3. Repeat steps [1, 2] until convergence is achieved. Convergence is defined as a centroid remaining in approximate the same position."
   ]
  },
  {
   "attachments": {},
   "cell_type": "markdown",
   "id": "a54345c1",
   "metadata": {},
   "source": [
    "### Gap Statistics\n",
    "\n",
    "$$K$$\n"
   ]
  }
 ],
 "metadata": {
  "kernelspec": {
   "display_name": "spatiotemp_class_env",
   "language": "python",
   "name": "spatiotemp_class_env"
  },
  "language_info": {
   "codemirror_mode": {
    "name": "ipython",
    "version": 3
   },
   "file_extension": ".py",
   "mimetype": "text/x-python",
   "name": "python",
   "nbconvert_exporter": "python",
   "pygments_lexer": "ipython3",
   "version": "3.10.9"
  }
 },
 "nbformat": 4,
 "nbformat_minor": 5
}
