{
 "cells": [
  {
   "cell_type": "code",
   "execution_count": 1,
   "id": "964a47ee",
   "metadata": {},
   "outputs": [],
   "source": [
    "import pandas as pd\n",
    "import numpy as np"
   ]
  },
  {
   "cell_type": "markdown",
   "id": "6d3f3ec2",
   "metadata": {},
   "source": [
    "## Observation Counts"
   ]
  },
  {
   "cell_type": "code",
   "execution_count": 10,
   "id": "5f9fa2de",
   "metadata": {},
   "outputs": [],
   "source": [
    "path = '../data/processed/'\n",
    "\n",
    "proboscidia_df = pd.read_csv(path + 'proboscidia_final.csv', index_col=0)\n",
    "felids_df = pd.read_csv(path + 'felids_final.csv', index_col=0)"
   ]
  },
  {
   "cell_type": "code",
   "execution_count": 11,
   "id": "42cbf714",
   "metadata": {},
   "outputs": [],
   "source": [
    "felids_df = felids_df[felids_df['taxon_species_name'] != 'Felis catus'].copy()"
   ]
  },
  {
   "cell_type": "code",
   "execution_count": 12,
   "id": "d69e9baf",
   "metadata": {},
   "outputs": [],
   "source": [
    "df = pd.concat([proboscidia_df, felids_df])"
   ]
  },
  {
   "cell_type": "markdown",
   "id": "ddbbe088",
   "metadata": {},
   "source": [
    "### Taxonomic Order"
   ]
  },
  {
   "cell_type": "code",
   "execution_count": 13,
   "id": "f9f9a380",
   "metadata": {},
   "outputs": [
    {
     "data": {
      "text/plain": [
       "taxon_family_name\n",
       "Felidae         44710\n",
       "Elephantidae    11292\n",
       "dtype: int64"
      ]
     },
     "execution_count": 13,
     "metadata": {},
     "output_type": "execute_result"
    }
   ],
   "source": [
    "df.value_counts(subset='taxon_family_name')"
   ]
  },
  {
   "cell_type": "markdown",
   "id": "f3452178",
   "metadata": {},
   "source": [
    "### Taxonomic Genus"
   ]
  },
  {
   "cell_type": "code",
   "execution_count": 21,
   "id": "cd473d55",
   "metadata": {},
   "outputs": [
    {
     "data": {
      "text/plain": [
       "taxon_genus_name\n",
       "Lynx            20139\n",
       "Panthera        12411\n",
       "Loxodonta        9407\n",
       "Puma             5239\n",
       "Leopardus        2220\n",
       "Elephas          1885\n",
       "Acinonyx         1872\n",
       "Felis             991\n",
       "Caracal           595\n",
       "Herpailurus       448\n",
       "Leptailurus       442\n",
       "Prionailurus      291\n",
       "Neofelis           24\n",
       "Otocolobus         20\n",
       "Pardofelis         11\n",
       "Catopuma            7\n",
       "dtype: int64"
      ]
     },
     "execution_count": 21,
     "metadata": {},
     "output_type": "execute_result"
    }
   ],
   "source": [
    "df_genus = df[df.groupby('taxon_family_name').common_name.transform('count') >= 5].copy()\n",
    "df_genus.value_counts(subset='taxon_genus_name')"
   ]
  },
  {
   "cell_type": "markdown",
   "id": "736d36de",
   "metadata": {},
   "source": [
    "### Taxonomic Species"
   ]
  },
  {
   "cell_type": "code",
   "execution_count": 27,
   "id": "eb6444e1",
   "metadata": {},
   "outputs": [
    {
     "data": {
      "text/plain": [
       "taxon_species_name\n",
       "Lynx rufus                  19043\n",
       "Loxodonta africana           8939\n",
       "Panthera leo                 6782\n",
       "Puma concolor                5239\n",
       "Panthera pardus              2964\n",
       "Elephas maximus              1885\n",
       "Acinonyx jubatus             1872\n",
       "Panthera onca                1831\n",
       "Leopardus pardalis           1324\n",
       "Panthera tigris               788\n",
       "Lynx canadensis               727\n",
       "Caracal caracal               573\n",
       "Herpailurus yagouaroundi      448\n",
       "Leptailurus serval            442\n",
       "Felis lybica                  372\n",
       "Leopardus wiedii              362\n",
       "Felis silvestris              345\n",
       "Leopardus geoffroyi           288\n",
       "Lynx lynx                     260\n",
       "Felis chaus                   228\n",
       "Loxodonta cyclotis            222\n",
       "Prionailurus bengalensis      178\n",
       "Lynx pardinus                 109\n",
       "Prionailurus javanensis        77\n",
       "Leopardus tigrinus             67\n",
       "Leopardus guigna               55\n",
       "Leopardus guttulus             47\n",
       "Panthera uncia                 46\n",
       "Caracal aurata                 22\n",
       "Otocolobus manul               20\n",
       "Neofelis diardi                19\n",
       "Felis nigripes                 18\n",
       "Prionailurus viverrinus        17\n",
       "Leopardus pajeros              16\n",
       "Leopardus colocola             16\n",
       "Leopardus garleppi             12\n",
       "Prionailurus rubiginosus       12\n",
       "Pardofelis marmorata           11\n",
       "Leopardus emiliae              10\n",
       "Felis margarita                10\n",
       "Leopardus braccatus             9\n",
       "Leopardus jacobita              7\n",
       "Prionailurus planiceps          7\n",
       "Catopuma temminckii             6\n",
       "Neofelis nebulosa               5\n",
       "Felis bieti                     4\n",
       "Leopardus fasciatus             2\n",
       "Catopuma badia                  1\n",
       "dtype: int64"
      ]
     },
     "execution_count": 27,
     "metadata": {},
     "output_type": "execute_result"
    }
   ],
   "source": [
    "df.value_counts(subset='taxon_species_name')"
   ]
  },
  {
   "cell_type": "markdown",
   "id": "596cc2e6",
   "metadata": {},
   "source": [
    "### Taxonomic Subspecies"
   ]
  },
  {
   "cell_type": "code",
   "execution_count": 16,
   "id": "90a605bd",
   "metadata": {},
   "outputs": [],
   "source": [
    "def sub_species_detection(x):\n",
    "    name_count = len(x['scientific_name'].split())\n",
    "    x['sub_species'] = np.nan\n",
    "    if name_count >= 3:\n",
    "        x['sub_species'] = x['scientific_name']\n",
    "    return x"
   ]
  },
  {
   "cell_type": "code",
   "execution_count": 17,
   "id": "fbcb00df",
   "metadata": {},
   "outputs": [],
   "source": [
    "df = df.apply(lambda x: sub_species_detection(x), axis=1)"
   ]
  },
  {
   "cell_type": "code",
   "execution_count": 19,
   "id": "595b86c5",
   "metadata": {},
   "outputs": [],
   "source": [
    "sub_species_counts = df.value_counts(subset='sub_species')"
   ]
  },
  {
   "cell_type": "code",
   "execution_count": 31,
   "id": "b5c5f5f6",
   "metadata": {},
   "outputs": [
    {
     "data": {
      "text/plain": [
       "sub_species\n",
       "Caracal caracal caracal                 349\n",
       "Lynx rufus rufus                        262\n",
       "Panthera pardus fusca                   222\n",
       "Elephas maximus borneensis              180\n",
       "Puma concolor concolor                  167\n",
       "Felis lybica cafra                      167\n",
       "Panthera pardus kotiya                  164\n",
       "Leptailurus serval lipostictus          152\n",
       "Felis silvestris silvestris             144\n",
       "Felis chaus affinis                     105\n",
       "Leptailurus serval serval                87\n",
       "Felis lybica lybica                      81\n",
       "Leopardus pardalis mitis                 58\n",
       "Leptailurus serval constantina           57\n",
       "Acinonyx jubatus hecki                   46\n",
       "Prionailurus javanensis sumatranus       38\n",
       "Prionailurus bengalensis euptilurus      32\n",
       "Lynx rufus escuinapae                    27\n",
       "Felis lybica ornata                      26\n",
       "Prionailurus bengalensis bengalensis     22\n",
       "Elephas maximus sumatranus               18\n",
       "Neofelis diardi borneensis               16\n",
       "Panthera tigris sondaica                 15\n",
       "Panthera pardus delacouri                15\n",
       "Lynx lynx lynx                           14\n",
       "Leopardus guigna guigna                  13\n",
       "Leopardus pardalis pardalis              11\n",
       "Panthera pardus tulliana                 11\n",
       "Panthera tigris altaica                  11\n",
       "Panthera pardus melas                    10\n",
       "Caracal caracal nubicus                  10\n",
       "Felis silvestris caucasica                9\n",
       "Prionailurus javanensis javanensis        8\n",
       "Prionailurus viverrinus viverrinus        8\n",
       "Lynx lynx dinniki                         8\n",
       "Felis catus × silvestris                  6\n",
       "Leopardus guigna tigrillo                 5\n",
       "Lynx lynx isabellinus                     5\n",
       "Lynx lynx carpathicus                     5\n",
       "Leopardus tigrinus oncilla                4\n",
       "Pardofelis marmorata marmorata            4\n",
       "Caracal caracal schmitzi                  4\n",
       "Prionailurus rubiginosus rubiginosus      3\n",
       "Caracal aurata aurata                     3\n",
       "Acinonyx jubatus soemmeringii             3\n",
       "Panthera pardus orientalis                3\n",
       "Otocolobus manul manul                    3\n",
       "Lynx lynx wrangeli                        3\n",
       "Catopuma temminckii moormensis            2\n",
       "Leopardus wiedii wiedii                   2\n",
       "Otocolobus manul nigripectus              2\n",
       "Felis catus × lybica                      2\n",
       "Prionailurus rubiginosus phillipsi        2\n",
       "Felis margarita margarita                 2\n",
       "Leopardus wiedii vigens                   1\n",
       "Pardofelis marmorata longicaudata         1\n",
       "Catopuma temminckii temminckii            1\n",
       "Felis margarita thinobia                  1\n",
       "Felis chaus chaus                         1\n",
       "Loxodonta africana × cyclotis             1\n",
       "dtype: int64"
      ]
     },
     "execution_count": 31,
     "metadata": {},
     "output_type": "execute_result"
    }
   ],
   "source": [
    "sub_species_counts.tail(60)"
   ]
  },
  {
   "cell_type": "code",
   "execution_count": 32,
   "id": "7889ef28",
   "metadata": {},
   "outputs": [
    {
     "data": {
      "text/plain": [
       "69"
      ]
     },
     "execution_count": 32,
     "metadata": {},
     "output_type": "execute_result"
    }
   ],
   "source": [
    "len(sub_species_counts)"
   ]
  }
 ],
 "metadata": {
  "kernelspec": {
   "display_name": "spatiotemp_class_env",
   "language": "python",
   "name": "spatiotemp_class_env"
  },
  "language_info": {
   "codemirror_mode": {
    "name": "ipython",
    "version": 3
   },
   "file_extension": ".py",
   "mimetype": "text/x-python",
   "name": "python",
   "nbconvert_exporter": "python",
   "pygments_lexer": "ipython3",
   "version": "3.10.9"
  }
 },
 "nbformat": 4,
 "nbformat_minor": 5
}
