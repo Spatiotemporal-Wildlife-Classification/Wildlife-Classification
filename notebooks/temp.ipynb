{
 "cells": [
  {
   "cell_type": "code",
   "execution_count": 3,
   "id": "f5fead7a",
   "metadata": {},
   "outputs": [],
   "source": [
    "import numpy as np\n",
    "import pandas as pd\n",
    "\n",
    "from os import walk"
   ]
  },
  {
   "cell_type": "markdown",
   "id": "52cf51ab",
   "metadata": {},
   "source": [
    "### Import original dataset"
   ]
  },
  {
   "cell_type": "code",
   "execution_count": 35,
   "id": "75baec69",
   "metadata": {},
   "outputs": [],
   "source": [
    "file_path = '../data/processed/'\n",
    "proboscidia_df = pd.read_csv(file_path + 'proboscidia_final.csv', index_col=0)\n",
    "felids_df = pd.read_csv(file_path + 'felids_final.csv', index_col=0)"
   ]
  },
  {
   "cell_type": "code",
   "execution_count": 36,
   "id": "ec6b87fc",
   "metadata": {},
   "outputs": [
    {
     "name": "stdout",
     "output_type": "stream",
     "text": [
      "11292\n",
      "68427\n"
     ]
    }
   ],
   "source": [
    "print(len(proboscidia_df))\n",
    "print(len(felids_df))"
   ]
  },
  {
   "cell_type": "markdown",
   "id": "5ee0f914",
   "metadata": {},
   "source": [
    "### Get all Taxon Test File Names"
   ]
  },
  {
   "cell_type": "code",
   "execution_count": 37,
   "id": "2a1276bd",
   "metadata": {},
   "outputs": [],
   "source": [
    "dir_path = '../data/taxon_test/'\n",
    "\n",
    "files = []\n",
    "for (dir_path, dir_names, file_names) in walk(dir_path):\n",
    "    files.extend(file_names)\n",
    "    "
   ]
  },
  {
   "cell_type": "code",
   "execution_count": 38,
   "id": "80084781",
   "metadata": {},
   "outputs": [],
   "source": [
    "ids = []\n",
    "for file in files:\n",
    "    file = int(file[:-6])\n",
    "    ids.append(file)"
   ]
  },
  {
   "cell_type": "markdown",
   "id": "8582625c",
   "metadata": {},
   "source": [
    "## Remove all matching observations from original data"
   ]
  },
  {
   "cell_type": "code",
   "execution_count": 39,
   "id": "5770e044",
   "metadata": {},
   "outputs": [],
   "source": [
    "proboscidia_train = proboscidia_df[~proboscidia_df.index.isin(ids)]\n",
    "felids_train = felids_df[~felids_df.index.isin(ids)]"
   ]
  },
  {
   "cell_type": "code",
   "execution_count": 40,
   "id": "973e5175",
   "metadata": {},
   "outputs": [
    {
     "name": "stdout",
     "output_type": "stream",
     "text": [
      "9891\n",
      "64536\n"
     ]
    }
   ],
   "source": [
    "print(len(proboscidia_train))\n",
    "print(len(felids_train))"
   ]
  },
  {
   "cell_type": "code",
   "execution_count": 45,
   "id": "ad436bb5",
   "metadata": {},
   "outputs": [],
   "source": [
    "proboscidia_train.to_csv(file_path + 'proboscidia_train.csv')\n",
    "felids_train.to_csv(file_path + 'felids_train.csv')"
   ]
  },
  {
   "cell_type": "markdown",
   "id": "2d6e304f",
   "metadata": {},
   "source": [
    "### Create the test set"
   ]
  },
  {
   "cell_type": "code",
   "execution_count": 41,
   "id": "fe69f788",
   "metadata": {},
   "outputs": [],
   "source": [
    "df = pd.concat([proboscidia_df, felids_df])\n",
    "df = df[df['taxon_species_name'] != 'Felis catus']"
   ]
  },
  {
   "cell_type": "code",
   "execution_count": 42,
   "id": "df59f1ca",
   "metadata": {},
   "outputs": [],
   "source": [
    "df = df[df.index.isin(ids)]"
   ]
  },
  {
   "cell_type": "code",
   "execution_count": 43,
   "id": "5b560269",
   "metadata": {},
   "outputs": [
    {
     "data": {
      "text/html": [
       "<div>\n",
       "<style scoped>\n",
       "    .dataframe tbody tr th:only-of-type {\n",
       "        vertical-align: middle;\n",
       "    }\n",
       "\n",
       "    .dataframe tbody tr th {\n",
       "        vertical-align: top;\n",
       "    }\n",
       "\n",
       "    .dataframe thead th {\n",
       "        text-align: right;\n",
       "    }\n",
       "</style>\n",
       "<table border=\"1\" class=\"dataframe\">\n",
       "  <thead>\n",
       "    <tr style=\"text-align: right;\">\n",
       "      <th></th>\n",
       "      <th>observed_on</th>\n",
       "      <th>local_time_observed_at</th>\n",
       "      <th>latitude</th>\n",
       "      <th>longitude</th>\n",
       "      <th>positional_accuracy</th>\n",
       "      <th>public_positional_accuracy</th>\n",
       "      <th>image_url</th>\n",
       "      <th>license</th>\n",
       "      <th>geoprivacy</th>\n",
       "      <th>taxon_geoprivacy</th>\n",
       "      <th>scientific_name</th>\n",
       "      <th>common_name</th>\n",
       "      <th>taxon_id</th>\n",
       "      <th>taxon_kingdom_name</th>\n",
       "      <th>taxon_phylum_name</th>\n",
       "      <th>taxon_class_name</th>\n",
       "      <th>taxon_order_name</th>\n",
       "      <th>taxon_family_name</th>\n",
       "      <th>taxon_genus_name</th>\n",
       "      <th>taxon_species_name</th>\n",
       "    </tr>\n",
       "    <tr>\n",
       "      <th>id</th>\n",
       "      <th></th>\n",
       "      <th></th>\n",
       "      <th></th>\n",
       "      <th></th>\n",
       "      <th></th>\n",
       "      <th></th>\n",
       "      <th></th>\n",
       "      <th></th>\n",
       "      <th></th>\n",
       "      <th></th>\n",
       "      <th></th>\n",
       "      <th></th>\n",
       "      <th></th>\n",
       "      <th></th>\n",
       "      <th></th>\n",
       "      <th></th>\n",
       "      <th></th>\n",
       "      <th></th>\n",
       "      <th></th>\n",
       "      <th></th>\n",
       "    </tr>\n",
       "  </thead>\n",
       "  <tbody>\n",
       "    <tr>\n",
       "      <th>4126</th>\n",
       "      <td>2009-07-25</td>\n",
       "      <td>2009-07-25 10:58:00+02:00</td>\n",
       "      <td>-19.502735</td>\n",
       "      <td>23.298196</td>\n",
       "      <td>NaN</td>\n",
       "      <td>30562.0</td>\n",
       "      <td>https://inaturalist-open-data.s3.amazonaws.com...</td>\n",
       "      <td>CC-BY-NC-ND</td>\n",
       "      <td>NaN</td>\n",
       "      <td>obscured</td>\n",
       "      <td>Loxodonta africana</td>\n",
       "      <td>Savannah Elephant</td>\n",
       "      <td>43694</td>\n",
       "      <td>Animalia</td>\n",
       "      <td>Chordata</td>\n",
       "      <td>Mammalia</td>\n",
       "      <td>Proboscidea</td>\n",
       "      <td>Elephantidae</td>\n",
       "      <td>Loxodonta</td>\n",
       "      <td>Loxodonta africana</td>\n",
       "    </tr>\n",
       "    <tr>\n",
       "      <th>16346</th>\n",
       "      <td>2007-11-29</td>\n",
       "      <td>2007-11-30 00:03:00+02:00</td>\n",
       "      <td>-20.253259</td>\n",
       "      <td>25.194044</td>\n",
       "      <td>NaN</td>\n",
       "      <td>30490.0</td>\n",
       "      <td>https://inaturalist-open-data.s3.amazonaws.com...</td>\n",
       "      <td>CC-BY</td>\n",
       "      <td>NaN</td>\n",
       "      <td>obscured</td>\n",
       "      <td>Loxodonta africana</td>\n",
       "      <td>Savannah Elephant</td>\n",
       "      <td>43694</td>\n",
       "      <td>Animalia</td>\n",
       "      <td>Chordata</td>\n",
       "      <td>Mammalia</td>\n",
       "      <td>Proboscidea</td>\n",
       "      <td>Elephantidae</td>\n",
       "      <td>Loxodonta</td>\n",
       "      <td>Loxodonta africana</td>\n",
       "    </tr>\n",
       "    <tr>\n",
       "      <th>17083</th>\n",
       "      <td>2007-11-26</td>\n",
       "      <td>2007-11-27 00:58:00+02:00</td>\n",
       "      <td>-19.595253</td>\n",
       "      <td>23.228511</td>\n",
       "      <td>NaN</td>\n",
       "      <td>30562.0</td>\n",
       "      <td>https://inaturalist-open-data.s3.amazonaws.com...</td>\n",
       "      <td>CC-BY</td>\n",
       "      <td>NaN</td>\n",
       "      <td>obscured</td>\n",
       "      <td>Loxodonta africana</td>\n",
       "      <td>Savannah Elephant</td>\n",
       "      <td>43694</td>\n",
       "      <td>Animalia</td>\n",
       "      <td>Chordata</td>\n",
       "      <td>Mammalia</td>\n",
       "      <td>Proboscidea</td>\n",
       "      <td>Elephantidae</td>\n",
       "      <td>Loxodonta</td>\n",
       "      <td>Loxodonta africana</td>\n",
       "    </tr>\n",
       "    <tr>\n",
       "      <th>17460</th>\n",
       "      <td>2010-04-03</td>\n",
       "      <td>2010-04-03 16:58:00+02:00</td>\n",
       "      <td>-19.271202</td>\n",
       "      <td>14.153619</td>\n",
       "      <td>NaN</td>\n",
       "      <td>30580.0</td>\n",
       "      <td>http://static.inaturalist.org/photos/32395/med...</td>\n",
       "      <td>CC-BY-NC-SA</td>\n",
       "      <td>NaN</td>\n",
       "      <td>obscured</td>\n",
       "      <td>Loxodonta africana</td>\n",
       "      <td>Savannah Elephant</td>\n",
       "      <td>43694</td>\n",
       "      <td>Animalia</td>\n",
       "      <td>Chordata</td>\n",
       "      <td>Mammalia</td>\n",
       "      <td>Proboscidea</td>\n",
       "      <td>Elephantidae</td>\n",
       "      <td>Loxodonta</td>\n",
       "      <td>Loxodonta africana</td>\n",
       "    </tr>\n",
       "    <tr>\n",
       "      <th>56825</th>\n",
       "      <td>2011-07-22</td>\n",
       "      <td>2011-07-22 09:43:00+02:00</td>\n",
       "      <td>-18.752899</td>\n",
       "      <td>24.488977</td>\n",
       "      <td>62469.0</td>\n",
       "      <td>62469.0</td>\n",
       "      <td>http://static.inaturalist.org/photos/88420/med...</td>\n",
       "      <td>CC-BY</td>\n",
       "      <td>NaN</td>\n",
       "      <td>obscured</td>\n",
       "      <td>Loxodonta africana</td>\n",
       "      <td>Savannah Elephant</td>\n",
       "      <td>43694</td>\n",
       "      <td>Animalia</td>\n",
       "      <td>Chordata</td>\n",
       "      <td>Mammalia</td>\n",
       "      <td>Proboscidea</td>\n",
       "      <td>Elephantidae</td>\n",
       "      <td>Loxodonta</td>\n",
       "      <td>Loxodonta africana</td>\n",
       "    </tr>\n",
       "  </tbody>\n",
       "</table>\n",
       "</div>"
      ],
      "text/plain": [
       "      observed_on     local_time_observed_at   latitude  longitude  \\\n",
       "id                                                                   \n",
       "4126   2009-07-25  2009-07-25 10:58:00+02:00 -19.502735  23.298196   \n",
       "16346  2007-11-29  2007-11-30 00:03:00+02:00 -20.253259  25.194044   \n",
       "17083  2007-11-26  2007-11-27 00:58:00+02:00 -19.595253  23.228511   \n",
       "17460  2010-04-03  2010-04-03 16:58:00+02:00 -19.271202  14.153619   \n",
       "56825  2011-07-22  2011-07-22 09:43:00+02:00 -18.752899  24.488977   \n",
       "\n",
       "       positional_accuracy  public_positional_accuracy  \\\n",
       "id                                                       \n",
       "4126                   NaN                     30562.0   \n",
       "16346                  NaN                     30490.0   \n",
       "17083                  NaN                     30562.0   \n",
       "17460                  NaN                     30580.0   \n",
       "56825              62469.0                     62469.0   \n",
       "\n",
       "                                               image_url      license  \\\n",
       "id                                                                      \n",
       "4126   https://inaturalist-open-data.s3.amazonaws.com...  CC-BY-NC-ND   \n",
       "16346  https://inaturalist-open-data.s3.amazonaws.com...        CC-BY   \n",
       "17083  https://inaturalist-open-data.s3.amazonaws.com...        CC-BY   \n",
       "17460  http://static.inaturalist.org/photos/32395/med...  CC-BY-NC-SA   \n",
       "56825  http://static.inaturalist.org/photos/88420/med...        CC-BY   \n",
       "\n",
       "      geoprivacy taxon_geoprivacy     scientific_name        common_name  \\\n",
       "id                                                                         \n",
       "4126         NaN         obscured  Loxodonta africana  Savannah Elephant   \n",
       "16346        NaN         obscured  Loxodonta africana  Savannah Elephant   \n",
       "17083        NaN         obscured  Loxodonta africana  Savannah Elephant   \n",
       "17460        NaN         obscured  Loxodonta africana  Savannah Elephant   \n",
       "56825        NaN         obscured  Loxodonta africana  Savannah Elephant   \n",
       "\n",
       "       taxon_id taxon_kingdom_name taxon_phylum_name taxon_class_name  \\\n",
       "id                                                                      \n",
       "4126      43694           Animalia          Chordata         Mammalia   \n",
       "16346     43694           Animalia          Chordata         Mammalia   \n",
       "17083     43694           Animalia          Chordata         Mammalia   \n",
       "17460     43694           Animalia          Chordata         Mammalia   \n",
       "56825     43694           Animalia          Chordata         Mammalia   \n",
       "\n",
       "      taxon_order_name taxon_family_name taxon_genus_name  taxon_species_name  \n",
       "id                                                                             \n",
       "4126       Proboscidea      Elephantidae        Loxodonta  Loxodonta africana  \n",
       "16346      Proboscidea      Elephantidae        Loxodonta  Loxodonta africana  \n",
       "17083      Proboscidea      Elephantidae        Loxodonta  Loxodonta africana  \n",
       "17460      Proboscidea      Elephantidae        Loxodonta  Loxodonta africana  \n",
       "56825      Proboscidea      Elephantidae        Loxodonta  Loxodonta africana  "
      ]
     },
     "execution_count": 43,
     "metadata": {},
     "output_type": "execute_result"
    }
   ],
   "source": [
    "df.head()"
   ]
  },
  {
   "cell_type": "code",
   "execution_count": 44,
   "id": "83302898",
   "metadata": {},
   "outputs": [
    {
     "name": "stdout",
     "output_type": "stream",
     "text": [
      "5292\n"
     ]
    }
   ],
   "source": [
    "print(len(df))"
   ]
  },
  {
   "cell_type": "code",
   "execution_count": 46,
   "id": "790411a3",
   "metadata": {},
   "outputs": [],
   "source": [
    "df.to_csv(file_path + 'final_test_observations.csv')"
   ]
  }
 ],
 "metadata": {
  "kernelspec": {
   "display_name": "spatiotemp_class_env",
   "language": "python",
   "name": "spatiotemp_class_env"
  },
  "language_info": {
   "codemirror_mode": {
    "name": "ipython",
    "version": 3
   },
   "file_extension": ".py",
   "mimetype": "text/x-python",
   "name": "python",
   "nbconvert_exporter": "python",
   "pygments_lexer": "ipython3",
   "version": "3.10.9"
  }
 },
 "nbformat": 4,
 "nbformat_minor": 5
}
